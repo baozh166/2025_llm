{
 "cells": [
  {
   "cell_type": "code",
   "execution_count": 12,
   "id": "deb53424-5e8a-4de2-895b-aa88a13b0bed",
   "metadata": {},
   "outputs": [
    {
     "name": "stdout",
     "output_type": "stream",
     "text": [
      "--2025-10-05 18:02:30--  https://raw.githubusercontent.com/alexeygrigorev/minsearch/main/minsearch.py\n",
      "Resolving raw.githubusercontent.com (raw.githubusercontent.com)... 185.199.108.133, 185.199.109.133, 185.199.111.133, ...\n",
      "Connecting to raw.githubusercontent.com (raw.githubusercontent.com)|185.199.108.133|:443... connected.\n",
      "HTTP request sent, awaiting response... 200 OK\n",
      "Length: 4350 (4.2K) [text/plain]\n",
      "Saving to: ‘minsearch.py’\n",
      "\n",
      "minsearch.py        100%[===================>]   4.25K  --.-KB/s    in 0s      \n",
      "\n",
      "2025-10-05 18:02:31 (93.8 MB/s) - ‘minsearch.py’ saved [4350/4350]\n",
      "\n"
     ]
    }
   ],
   "source": [
    "!wget https://raw.githubusercontent.com/alexeygrigorev/minsearch/main/minsearch.py"
   ]
  },
  {
   "cell_type": "code",
   "execution_count": 2,
   "id": "f35b1666-5393-458a-b747-177c1a1525ca",
   "metadata": {},
   "outputs": [],
   "source": [
    "import pandas as pd\n",
    "import json"
   ]
  },
  {
   "cell_type": "markdown",
   "id": "28f98df4-326c-4a0f-95a3-2441e1ced3ca",
   "metadata": {},
   "source": [
    "## 1. Ingestion"
   ]
  },
  {
   "cell_type": "code",
   "execution_count": 59,
   "id": "acee6281-a506-4dc0-9f82-8b2ad48346ee",
   "metadata": {},
   "outputs": [],
   "source": [
    "news_path = \"data/medquad.csv\"\n",
    "df = pd.read_csv(news_path)"
   ]
  },
  {
   "cell_type": "code",
   "execution_count": 60,
   "id": "e20b2d20-2fe1-4faf-a88d-6769b376dbcf",
   "metadata": {},
   "outputs": [
    {
     "data": {
      "text/plain": [
       "Index(['question', 'answer', 'source', 'focus_area'], dtype='object')"
      ]
     },
     "execution_count": 60,
     "metadata": {},
     "output_type": "execute_result"
    }
   ],
   "source": [
    "df.columns"
   ]
  },
  {
   "cell_type": "code",
   "execution_count": 61,
   "id": "cff96079-0a0a-4888-8cc9-abede3b6203a",
   "metadata": {},
   "outputs": [
    {
     "name": "stdout",
     "output_type": "stream",
     "text": [
      "<class 'pandas.core.frame.DataFrame'>\n",
      "RangeIndex: 16412 entries, 0 to 16411\n",
      "Data columns (total 4 columns):\n",
      " #   Column      Non-Null Count  Dtype \n",
      "---  ------      --------------  ----- \n",
      " 0   question    16412 non-null  object\n",
      " 1   answer      16407 non-null  object\n",
      " 2   source      16412 non-null  object\n",
      " 3   focus_area  16398 non-null  object\n",
      "dtypes: object(4)\n",
      "memory usage: 513.0+ KB\n"
     ]
    }
   ],
   "source": [
    "df.info()"
   ]
  },
  {
   "cell_type": "code",
   "execution_count": 62,
   "id": "b9aec88c-33c5-4e0e-97e9-071c96cbf3a4",
   "metadata": {},
   "outputs": [],
   "source": [
    "df = df.dropna()"
   ]
  },
  {
   "cell_type": "code",
   "execution_count": 63,
   "id": "73c32f01-4e0f-425f-8e9e-87731ec77feb",
   "metadata": {},
   "outputs": [
    {
     "name": "stdout",
     "output_type": "stream",
     "text": [
      "<class 'pandas.core.frame.DataFrame'>\n",
      "Index: 16393 entries, 0 to 16411\n",
      "Data columns (total 4 columns):\n",
      " #   Column      Non-Null Count  Dtype \n",
      "---  ------      --------------  ----- \n",
      " 0   question    16393 non-null  object\n",
      " 1   answer      16393 non-null  object\n",
      " 2   source      16393 non-null  object\n",
      " 3   focus_area  16393 non-null  object\n",
      "dtypes: object(4)\n",
      "memory usage: 640.4+ KB\n"
     ]
    }
   ],
   "source": [
    "df.info()"
   ]
  },
  {
   "cell_type": "code",
   "execution_count": 64,
   "id": "92bdbd8d-eef7-4f2a-a55b-37e7c17f17b6",
   "metadata": {},
   "outputs": [],
   "source": [
    "documents = df.to_dict(orient='records')"
   ]
  },
  {
   "cell_type": "code",
   "execution_count": 65,
   "id": "6f732823-ce75-4ba1-9194-ee2182f20cb5",
   "metadata": {},
   "outputs": [],
   "source": [
    "documents = documents[:500] # too long to embed"
   ]
  },
  {
   "cell_type": "markdown",
   "id": "47a85488-8ce6-4c80-af37-5acf15537d70",
   "metadata": {},
   "source": [
    "### 1.1 intake via minsearch (keyword search)"
   ]
  },
  {
   "cell_type": "code",
   "execution_count": 66,
   "id": "3cb61ed6-815f-47a6-8e5d-39ddca63982d",
   "metadata": {},
   "outputs": [],
   "source": [
    "import minsearch"
   ]
  },
  {
   "cell_type": "code",
   "execution_count": 67,
   "id": "267f9429-4f31-4750-bdf4-84d0a3ec554a",
   "metadata": {},
   "outputs": [],
   "source": [
    "index_min = minsearch.Index(\n",
    "    text_fields=['question', 'answer', 'source'],\n",
    "    keyword_fields=['focus_area']\n",
    ")"
   ]
  },
  {
   "cell_type": "code",
   "execution_count": 68,
   "id": "d734c998-f4a5-4390-9708-6c1edda23348",
   "metadata": {},
   "outputs": [
    {
     "data": {
      "text/plain": [
       "<minsearch.Index at 0x7a91f18df3d0>"
      ]
     },
     "execution_count": 68,
     "metadata": {},
     "output_type": "execute_result"
    }
   ],
   "source": [
    "index_min.fit(documents)"
   ]
  },
  {
   "cell_type": "markdown",
   "id": "bd04680a-d6e8-4720-b40b-ce29ba7cc57b",
   "metadata": {},
   "source": [
    "### 1.2 intake via Qdrant(semantic/vector search) "
   ]
  },
  {
   "cell_type": "markdown",
   "id": "f2c6fd74-db92-4eea-bef0-48a0ddd4d090",
   "metadata": {},
   "source": [
    "#### 1.2.1 setup and ipormt libraries & Connect to Qdrant"
   ]
  },
  {
   "cell_type": "markdown",
   "id": "9499c135-d8d0-4202-87d9-343415babe21",
   "metadata": {},
   "source": [
    "Run a Qdrant instance in a Docker container, using the following commands in Linux terminal:\n",
    "\n",
    "```bash\n",
    "docker pull qdrant/qdrant\n",
    "\n",
    "docker run -p 6333:6333 -p 6334:6334 \\\n",
    "   -v \"$(pwd)/qdrant_storage:/qdrant/storage:z\" \\\n",
    "   qdrant/qdrant\n",
    "```"
   ]
  },
  {
   "cell_type": "code",
   "execution_count": 24,
   "id": "22582ee2-099c-47cc-a8c6-0ac74c79c078",
   "metadata": {},
   "outputs": [],
   "source": [
    "from qdrant_client import QdrantClient, models"
   ]
  },
  {
   "cell_type": "code",
   "execution_count": 25,
   "id": "4e499cf4-d91a-472a-a3a2-6d1c458b78a1",
   "metadata": {},
   "outputs": [],
   "source": [
    "# initialize the client\n",
    "client_q = QdrantClient(\"http://localhost:6333\") #connecting to local Qdrant instance"
   ]
  },
  {
   "cell_type": "markdown",
   "id": "b6962e7a-08f8-4d3e-aa5c-72952a20fad9",
   "metadata": {},
   "source": [
    "#### 1.2.2 Study the Dataset"
   ]
  },
  {
   "cell_type": "code",
   "execution_count": 14,
   "id": "b3d8c38e-8458-4977-9609-824f4825ae17",
   "metadata": {},
   "outputs": [
    {
     "data": {
      "text/plain": [
       "[{'question': 'What is (are) Glaucoma ?',\n",
       "  'answer': \"Glaucoma is a group of diseases that can damage the eye's optic nerve and result in vision loss and blindness. While glaucoma can strike anyone, the risk is much greater for people over 60. How Glaucoma Develops  There are several different types of glaucoma. Most of these involve the drainage system within the eye. At the front of the eye there is a small space called the anterior chamber. A clear fluid flows through this chamber and bathes and nourishes the nearby tissues. (Watch the video to learn more about glaucoma. To enlarge the video, click the brackets in the lower right-hand corner. To reduce the video, press the Escape (Esc) button on your keyboard.) In glaucoma, for still unknown reasons, the fluid drains too slowly out of the eye. As the fluid builds up, the pressure inside the eye rises. Unless this pressure is controlled, it may cause damage to the optic nerve and other parts of the eye and result in loss of vision. Open-angle Glaucoma The most common type of glaucoma is called open-angle glaucoma. In the normal eye, the clear fluid leaves the anterior chamber at the open angle where the cornea and iris meet. When fluid reaches the angle, it flows through a spongy meshwork, like a drain, and leaves the eye. Sometimes, when the fluid reaches the angle, it passes too slowly through the meshwork drain, causing the pressure inside the eye to build. If the pressure damages the optic nerve, open-angle glaucoma -- and vision loss -- may result. There is no cure for glaucoma. Vision lost from the disease cannot be restored. However, there are treatments that may save remaining vision. That is why early diagnosis is important.  See this graphic for a quick overview of glaucoma,  including how many people it affects, whos at risk, what to do if you have it, and how to learn more.  See a glossary of glaucoma terms.\",\n",
       "  'source': 'NIHSeniorHealth',\n",
       "  'focus_area': 'Glaucoma'},\n",
       " {'question': 'What causes Glaucoma ?',\n",
       "  'answer': 'Nearly 2.7 million people have glaucoma, a leading cause of blindness in the United States. Although anyone can get glaucoma, some people are at higher risk. They include - African-Americans over age 40  - everyone over age 60, especially Hispanics/Latinos  - people with a family history of glaucoma. African-Americans over age 40 everyone over age 60, especially Hispanics/Latinos people with a family history of glaucoma.  In addition to age, eye pressure is a risk factor. Whether you develop glaucoma depends on the level of pressure your optic nerve can tolerate without being damaged. This level is different for each person. Thats why a comprehensive dilated eye exam is very important. It can help your eye care professional determine what level of eye pressure is normal for you. Another risk factor for optic nerve damage relates to blood pressure. Thus, it is important to also make sure that your blood pressure is at a proper level for your body by working with your medical doctor. (Watch the animated video to learn more about the causes of glaucoma. To enlarge the video, click the brackets in the lower right-hand corner. To reduce the video, press the Escape (Esc) button on your keyboard.)',\n",
       "  'source': 'NIHSeniorHealth',\n",
       "  'focus_area': 'Glaucoma'}]"
      ]
     },
     "execution_count": 14,
     "metadata": {},
     "output_type": "execute_result"
    }
   ],
   "source": [
    "documents[:2]"
   ]
  },
  {
   "cell_type": "markdown",
   "id": "f46c4979-65cd-4910-bdb7-76d75ba92ed0",
   "metadata": {},
   "source": [
    "#### 1.2.3 Choosing the Embedding Model with FastEmbed\n",
    "\n",
    "Now that we know we're embedding small chunks of English text (medical-related question and answer pairs), we can choose a suitable embedding model to convert this data into vectors."
   ]
  },
  {
   "cell_type": "code",
   "execution_count": 15,
   "id": "47684f9b-29ff-48a6-a613-8c0be31b98c6",
   "metadata": {},
   "outputs": [],
   "source": [
    "# select an embedding model to use for the mecial question answers, stored in text fields, from the options supported by FastEmbed.\n",
    "from fastembed import TextEmbedding\n",
    "# TextEmbedding.list_supported_models()"
   ]
  },
  {
   "cell_type": "markdown",
   "id": "566a2bd7-0d19-4e0e-8d3f-36fcec6e41dc",
   "metadata": {},
   "source": [
    "It makes sense to choose a model that produces small-to-moderate-sized embeddings (e.g., 512 dimensions), so we don’t overuse resources in our simple setup. We need an embedding model suitable for **English text**. \n",
    "It also makes sense to select a **unimodal** model, since we’re not including images in our search, and specifically tailored solutions are usually better than universal ones.\n",
    "It seems like `jina-embedding-small-en` is a good choice!"
   ]
  },
  {
   "cell_type": "code",
   "execution_count": 16,
   "id": "a86f5750-54f6-48fa-bf11-641e62d777c5",
   "metadata": {},
   "outputs": [],
   "source": [
    "model_handle = \"jinaai/jina-embeddings-v2-small-en\""
   ]
  },
  {
   "cell_type": "markdown",
   "id": "4253867a-7c6a-49f8-9f3c-263a21443e38",
   "metadata": {},
   "source": [
    "Like most dense embedding models, `jina-embedding-small-en` was trained to measure semantic closeness using **cosine similarity**.  \n",
    "\n",
    "> The parameters of the chosen embedding model, including the output embedding `dimensions` and the `semantic similarity` (distance) metric, are required to configure semantic search in Qdrant.\n"
   ]
  },
  {
   "cell_type": "markdown",
   "id": "94399b54-ef20-49af-8071-80e014ab4510",
   "metadata": {},
   "source": [
    "#### 1.2.4: Create a Collection"
   ]
  },
  {
   "cell_type": "code",
   "execution_count": 18,
   "id": "ed7cebef-a8ad-4cf9-b264-ba926f060226",
   "metadata": {},
   "outputs": [
    {
     "data": {
      "text/plain": [
       "True"
      ]
     },
     "execution_count": 18,
     "metadata": {},
     "output_type": "execute_result"
    }
   ],
   "source": [
    "# Define the collection name\n",
    "collection_name = \"medicalQA-rag500\"\n",
    "EMBEDDING_DIMENSIONALITY =512\n",
    "# Create the collection with specified vector parameters\n",
    "client_q.create_collection(\n",
    "    collection_name=collection_name,\n",
    "    vectors_config=models.VectorParams(\n",
    "        size=EMBEDDING_DIMENSIONALITY,  # Dimensionality of the vectors\n",
    "        distance=models.Distance.COSINE  # Distance metric for similarity search\n",
    "    )\n",
    ")"
   ]
  },
  {
   "cell_type": "markdown",
   "id": "67001132-fc64-4614-8d35-bf4a4189d25e",
   "metadata": {},
   "source": [
    "#### 1.2.5: Create, Embed & Insert Points into the Collection\n",
    "\n",
    "[Points](https://qdrant.tech/documentation/concepts/points/#points) are the core data entities in Qdrant. Each point consists of:\n",
    "\n",
    "1. **ID**. A unique identifier. Qdrant supports both 64-bit unsigned integers and UUIDs.  \n",
    "2. **Vector**. The embedding that represents the data point in vector space.  \n",
    "3. **Payload** *(optional)*. Additional metadata as key-value pairs.\n"
   ]
  },
  {
   "cell_type": "code",
   "execution_count": 19,
   "id": "5461dd16-0fe0-4f43-b3da-590969e894ab",
   "metadata": {},
   "outputs": [],
   "source": [
    "points = []\n",
    "id = 0\n",
    "\n",
    "for doc in documents:\n",
    "    point = models.PointStruct( # models is an imported module\n",
    "        id=id,\n",
    "        vector=models.Document(text=doc['answer'], model=model_handle), #embed text locally with \"jinaai/jina-embeddings-v2-small-en\" from FastEmbed\n",
    "        payload={\n",
    "            \"text\": doc['answer'], # have to be here or else not vectorized.\n",
    "            \"source\": doc['source'],\n",
    "            \"focus_area\": doc['focus_area']\n",
    "        } #save all needed metadata fields\n",
    "    )\n",
    "    points.append(point)\n",
    "\n",
    "    id += 1"
   ]
  },
  {
   "cell_type": "markdown",
   "id": "8b185d16-5dda-4399-8f35-8f17304fb3a0",
   "metadata": {},
   "source": [
    "Now, embed and upload points to our collection.\n",
    "\n",
    "First, FastEmbed will fetch&download the selected model (path defaults to os.path.join(tempfile.gettempdir(), \"fastembed_cache\")), and perform inference directly on your machine.\n",
    "Then, the generated points will be upserted into the collection, and the vector index will be built."
   ]
  },
  {
   "cell_type": "code",
   "execution_count": 20,
   "id": "5d6f2d78-6fda-4043-8675-6a920a9a1758",
   "metadata": {},
   "outputs": [
    {
     "name": "stderr",
     "output_type": "stream",
     "text": [
      "Fetching 5 files: 100%|███████████████████████████████████████████████████████████████████| 5/5 [00:01<00:00,  4.46it/s]\n"
     ]
    },
    {
     "data": {
      "text/plain": [
       "UpdateResult(operation_id=0, status=<UpdateStatus.COMPLETED: 'completed'>)"
      ]
     },
     "execution_count": 20,
     "metadata": {},
     "output_type": "execute_result"
    }
   ],
   "source": [
    "client_q.upsert(\n",
    "    collection_name=collection_name,\n",
    "    points=points\n",
    ")"
   ]
  },
  {
   "cell_type": "markdown",
   "id": "cc6c271c-ea70-49f8-97b1-982fec1bc5b7",
   "metadata": {},
   "source": [
    "500points about 2 min. \n",
    "The speed of upsert mainly depends on the time spent on local inference. To speed this up, you could run FastEmbed on GPUs or use a machine with more resources."
   ]
  },
  {
   "cell_type": "markdown",
   "id": "7574ca72-b3c6-4b99-b2a7-1b38c87c9c0d",
   "metadata": {},
   "source": [
    "##### Study Data Visually\n",
    "\n",
    "Let’s explore the uploaded data in the Qdrant Web UI at [http://localhost:6333/dashboard](http://localhost:6333/dashboard) to study semantic similarity visually.\n",
    "\n",
    "Click the `Visualize` tab in the `medicalQA-rag500` collection, run the following command:\n",
    "\n",
    "```json\n",
    "{\n",
    "  \"limit\": 1000,\n",
    "  \"color_by\": {\n",
    "    \"payload\": \"source\"\n",
    "  }\n",
    "}\n",
    "```\n",
    "\n",
    "This 2D representation is the result of dimensionality reduction applied to `jina-embeddings`."
   ]
  },
  {
   "cell_type": "markdown",
   "id": "e133e5d6-13b1-4863-b77d-c766d298e241",
   "metadata": {},
   "source": [
    "#### 1.2.6: Running a Similarity Search"
   ]
  },
  {
   "cell_type": "code",
   "execution_count": 94,
   "id": "95603cc2-b8c6-45bd-9dd5-d99372b93cf5",
   "metadata": {},
   "outputs": [],
   "source": [
    "# define a search function\n",
    "def search(query, limit=1):\n",
    "\n",
    "    results = client_q.query_points(\n",
    "        collection_name=collection_name,\n",
    "        query=models.Document( #embed the query text locally with \"jinaai/jina-embeddings-v2-small-en\"\n",
    "            text=query,\n",
    "            model=model_handle \n",
    "        ),\n",
    "        limit=limit, # top closest matches\n",
    "        with_payload=True #to get metadata in the results\n",
    "    )\n",
    "\n",
    "    return results"
   ]
  },
  {
   "cell_type": "markdown",
   "id": "772665f6-e7cf-41ea-b01a-0415e7f19f7d",
   "metadata": {},
   "source": [
    "Now let’s pick a random question from the course data.\n",
    "As you remember, we didn’t upload the questions to Qdrant."
   ]
  },
  {
   "cell_type": "code",
   "execution_count": 27,
   "id": "47e6517a-a7ea-4f9b-982a-6ba1ae4626a5",
   "metadata": {},
   "outputs": [
    {
     "name": "stdout",
     "output_type": "stream",
     "text": [
      "{\n",
      "  \"question\": \"What are the treatments for Prostate Cancer ?\",\n",
      "  \"answer\": \"Surgery, radiation therapy, and hormonal therapy all have the potential to disrupt sexual desire or performance for a short while or permanently. Discuss your concerns with your health care provider. Several options are available to help you manage sexual problems related to prostate cancer treatment.\",\n",
      "  \"source\": \"NIHSeniorHealth\",\n",
      "  \"focus_area\": \"Prostate Cancer\"\n",
      "}\n"
     ]
    }
   ],
   "source": [
    "import random, json\n",
    "\n",
    "doc_piece= random.choice(documents)\n",
    "print(json.dumps(doc_piece, indent=2))"
   ]
  },
  {
   "cell_type": "code",
   "execution_count": 28,
   "id": "2d6c0aff-17bc-4a4b-9676-3d052f785f14",
   "metadata": {},
   "outputs": [
    {
     "data": {
      "text/plain": [
       "QueryResponse(points=[ScoredPoint(id=186, version=0, score=0.90219444, payload={'text': \"There are a number of ways to treat prostate cancer, and the doctor will develop a treatment to fit each man's needs. The choice of treatment mostly depends on the stage of the disease and the grade of the tumor. But doctors also consider a man's age, general health, and his feelings about the treatments and their possible side effects. Treatment for prostate cancer may involve watchful waiting, surgery, radiation therapy, or hormonal therapy. Some men receive a combination of therapies. A cure is probable for men whose prostate cancer is diagnosed early.\", 'source': 'NIHSeniorHealth', 'focus_area': 'Prostate Cancer'}, vector=None, shard_key=None, order_value=None)])"
      ]
     },
     "execution_count": 28,
     "metadata": {},
     "output_type": "execute_result"
    }
   ],
   "source": [
    "# Let's see which answer we get:\n",
    "result = search(doc_piece['question'])\n",
    "result"
   ]
  },
  {
   "cell_type": "code",
   "execution_count": 29,
   "id": "181a52e5-d55e-4770-871e-6a4027605c50",
   "metadata": {},
   "outputs": [
    {
     "name": "stdout",
     "output_type": "stream",
     "text": [
      "Question:\n",
      "What are the treatments for Prostate Cancer ?\n",
      "\n",
      "Top Retrieved Answer:\n",
      "There are a number of ways to treat prostate cancer, and the doctor will develop a treatment to fit each man's needs. The choice of treatment mostly depends on the stage of the disease and the grade of the tumor. But doctors also consider a man's age, general health, and his feelings about the treatments and their possible side effects. Treatment for prostate cancer may involve watchful waiting, surgery, radiation therapy, or hormonal therapy. Some men receive a combination of therapies. A cure is probable for men whose prostate cancer is diagnosed early.\n",
      "\n",
      "Original Answer:\n",
      "Surgery, radiation therapy, and hormonal therapy all have the potential to disrupt sexual desire or performance for a short while or permanently. Discuss your concerns with your health care provider. Several options are available to help you manage sexual problems related to prostate cancer treatment.\n"
     ]
    }
   ],
   "source": [
    "# Let’s compare the original and retrieved answers for our randomly selected question.\n",
    "\n",
    "print(f\"Question:\\n{doc_piece['question']}\\n\")\n",
    "print(\"Top Retrieved Answer:\\n{}\\n\".format(result.points[0].payload['text']))\n",
    "print(\"Original Answer:\\n{}\".format(doc_piece['answer']))"
   ]
  },
  {
   "cell_type": "code",
   "execution_count": 30,
   "id": "c1aa839d-629f-4dae-98cc-6a5132fc2a97",
   "metadata": {},
   "outputs": [
    {
     "name": "stdout",
     "output_type": "stream",
     "text": [
      "id=179 version=0 score=0.90598774 payload={'text': 'Age is the most important risk factor for prostate cancer. The disease is extremely rare in men under age 40, but the risk increases greatly with age. More than 60 percent of cases are diagnosed in men over age 65. The average age at the time of diagnosis is 65.', 'source': 'NIHSeniorHealth', 'focus_area': 'Prostate Cancer'} vector=None shard_key=None order_value=None\n"
     ]
    }
   ],
   "source": [
    "# Now let’s search the answer to a question that wasn’t in the initial dataset.\n",
    "\n",
    "print(search(\"Who is at risk for Prostate Cancer?\").points[0])\n"
   ]
  },
  {
   "cell_type": "markdown",
   "id": "8097f652-e877-4edc-8093-cad60905b1cc",
   "metadata": {},
   "source": [
    "### 1.3 intake by Qdrant via Hybrid Search"
   ]
  },
  {
   "cell_type": "markdown",
   "id": "b7891006-e917-4e6d-8820-37e6d3302372",
   "metadata": {},
   "source": [
    "#### 1.3.1: Sparse vector search with BM25\n",
    "\n",
    "We are going to use the same dataset as before, but this time we are going to create sparse vectors with BM25 only."
   ]
  },
  {
   "cell_type": "code",
   "execution_count": 22,
   "id": "421e2ae0-5847-4ae3-bbcc-b400d20edfdb",
   "metadata": {},
   "outputs": [
    {
     "data": {
      "text/plain": [
       "True"
      ]
     },
     "execution_count": 22,
     "metadata": {},
     "output_type": "execute_result"
    }
   ],
   "source": [
    "# Create the collection with specified sparse vector parameters\n",
    "from qdrant_client import models\n",
    "\n",
    "client_q.create_collection( # same client_q name with vector search\n",
    "    collection_name=\"medicalQA-sparse\",\n",
    "    sparse_vectors_config={\n",
    "        \"bm25\": models.SparseVectorParams(\n",
    "            modifier=models.Modifier.IDF,\n",
    "        )\n",
    "    }\n",
    ")"
   ]
  },
  {
   "cell_type": "markdown",
   "id": "118ee540-0422-4824-82f5-befb96d9edb9",
   "metadata": {},
   "source": [
    "FastEmbed comes with a BM25 implementation that we can use as any other model."
   ]
  },
  {
   "cell_type": "code",
   "execution_count": 23,
   "id": "1817e631-b9fe-4c1c-bd6e-1db3be02162d",
   "metadata": {},
   "outputs": [
    {
     "name": "stderr",
     "output_type": "stream",
     "text": [
      "Fetching 18 files: 100%|████████████████████████████████████████████████████████████████| 18/18 [00:00<00:00, 35.36it/s]\n"
     ]
    },
    {
     "data": {
      "text/plain": [
       "UpdateResult(operation_id=0, status=<UpdateStatus.COMPLETED: 'completed'>)"
      ]
     },
     "execution_count": 23,
     "metadata": {},
     "output_type": "execute_result"
    }
   ],
   "source": [
    "import uuid\n",
    "\n",
    "# Send the points to the collection\n",
    "client_q.upsert(\n",
    "    collection_name=\"medicalQA-sparse\",\n",
    "    points=[\n",
    "        models.PointStruct(\n",
    "            id=uuid.uuid4().hex,\n",
    "            vector={\n",
    "                \"bm25\": models.Document(\n",
    "                    text=doc[\"answer\"], \n",
    "                    model=\"Qdrant/bm25\",\n",
    "                ),\n",
    "            },\n",
    "            payload={\n",
    "                \"text\": doc[\"answer\"],\n",
    "                \"source\": doc[\"source\"],\n",
    "                \"focus_area\": doc[\"focus_area\"],\n",
    "            }\n",
    "        )\n",
    "        for doc in documents\n",
    "    ]\n",
    ")"
   ]
  },
  {
   "cell_type": "markdown",
   "id": "87becd3a-b8e5-431a-b499-83cbcb666208",
   "metadata": {},
   "source": [
    "runs pretty quick, a few seconds. I am surprised how fast the upload operation was. BM25 does not require a neural network, so it is fast compared to dense embedding models.\n",
    "\n",
    "#### 1.3.2: Running sparse vector search with BM25\n",
    "\n",
    "Right now, our vectors are ready to be searched over. Let's create a helper function."
   ]
  },
  {
   "cell_type": "code",
   "execution_count": 83,
   "id": "80c88fff-bd0b-494e-ba29-25803278359b",
   "metadata": {},
   "outputs": [],
   "source": [
    "def search(query: str, limit: int = 2) -> list[models.ScoredPoint]:\n",
    "    results = client_q.query_points(\n",
    "        collection_name=\"medicalQA-sparse\",\n",
    "        query=models.Document(\n",
    "            text=query,\n",
    "            model=\"Qdrant/bm25\",\n",
    "        ),\n",
    "        using=\"bm25\",\n",
    "        limit=limit,\n",
    "        with_payload=True,\n",
    "    )\n",
    "\n",
    "    return results.points"
   ]
  },
  {
   "cell_type": "code",
   "execution_count": 84,
   "id": "c0430427-7a7a-4fa8-b358-f167769c7152",
   "metadata": {},
   "outputs": [
    {
     "data": {
      "text/plain": [
       "[]"
      ]
     },
     "execution_count": 84,
     "metadata": {},
     "output_type": "execute_result"
    }
   ],
   "source": [
    "results = search(\"qdrant\")\n",
    "results"
   ]
  },
  {
   "cell_type": "code",
   "execution_count": 87,
   "id": "73d06849-3f51-4509-9d31-d32aa0e4dc07",
   "metadata": {},
   "outputs": [
    {
     "name": "stdout",
     "output_type": "stream",
     "text": [
      "How Tumors Form The body is made up of many types of cells. Normally, cells grow, divide and produce more cells as needed to keep the body healthy. Sometimes, however, the process goes wrong. Cells become abnormal and form more cells in an uncontrolled way. These extra cells form a mass of tissue, called a growth or tumor. Tumors can be benign, which means not cancerous, or malignant, which means cancerous. Breast cancer occurs when malignant tumors form in the breast tissue. Who Gets Breast Cancer?  Breast cancer is one of the most common cancers in American women. It is most common among women between the ages of 45-85. (Watch the video to learn more about breast cancer survival rates. To enlarge the videos appearing on this page, click the brackets in the lower right-hand corner of the video screen. To reduce the videos, press the Escape (Esc) button on your keyboard.) Men can get breast cancer too, although they account for only 1 percent of all reported cases. Read more about breast cancer in men.  When Breast Cancer Spreads When cancer grows in breast tissue and spreads outside the breast, cancer cells are often found in the lymph nodes under the arm. If the cancer has reached these nodes, it means that cancer cells may have spread, or metastasized, to other parts of the body. When cancer spreads from its original location in the breast to another part of the body such as the brain, it is called metastatic breast cancer, not brain cancer. Doctors sometimes call this \"distant\" disease.  Learn about different kinds of breast cancer. Breast Cancer is Not Contagious Breast cancer is not contagious. A woman cannot \"catch\" breast cancer from other women who have the disease. Also, breast cancer is not caused by an injury to the breast. Most women who develop breast cancer do not have any known risk factors or a history of the disease in their families. Treating and Surviving Breast Cancer  Today, more women are surviving breast cancer than ever before. Nearly three million women are breast cancer survivors. (Watch the video to hear a woman discuss surviving breast cancer.) There are several ways to treat breast cancer, but all treatments work best when the disease is found early. As a matter of fact, when it is caught in its earliest stage, 98.5 percent of women with the disease are alive five years later. Every day researchers are working to find new and better ways to detect and treat cancer. Many studies of new approaches for women with breast cancer are under way. With early detection, and prompt and appropriate treatment, the outlook for women with breast cancer can be positive. To learn more about what happens after treatment, see  Surviving Cancer.\n"
     ]
    }
   ],
   "source": [
    "results = search(\"cancer\")\n",
    "print(results[1].payload[\"text\"])"
   ]
  },
  {
   "cell_type": "code",
   "execution_count": 86,
   "id": "baf694bf-6251-49c3-9cdd-e98f977d9f66",
   "metadata": {},
   "outputs": [
    {
     "data": {
      "text/plain": [
       "2.751687"
      ]
     },
     "execution_count": 86,
     "metadata": {},
     "output_type": "execute_result"
    }
   ],
   "source": [
    "results[1].score"
   ]
  },
  {
   "cell_type": "markdown",
   "id": "d0c7cdf1-24a6-4cea-b507-b18dbc6b37d1",
   "metadata": {},
   "source": [
    "Scores returned by BM25 are not calculated with cosine similarity, but with BM25 formula. They are not bounded to a specific range, but are virtually unbounded."
   ]
  },
  {
   "cell_type": "markdown",
   "id": "641b8eb7-a2f9-4ee6-8e29-5a747b2d1d12",
   "metadata": {},
   "source": [
    "That's an important observation before we start implementing hybrid search.\n",
    "\n",
    "#### 1.3.3 Natural language like queries\n",
    "\n",
    "Let's try again with a random question from our dataset to see how well sparse vector search can work with longer, natural language like queries."
   ]
  },
  {
   "cell_type": "code",
   "execution_count": 88,
   "id": "e79a3957-9961-4656-8ca4-70ad50891446",
   "metadata": {},
   "outputs": [
    {
     "name": "stdout",
     "output_type": "stream",
     "text": [
      "{\n",
      "  \"question\": \"What are the treatments for Paget's Disease of Bone ?\",\n",
      "  \"answer\": \"The Food and Drug Administration has approved several medications that can stop or slow down the progression of the disease and reduce pain and other symptoms. These medications fall into two categories: bisphosphonates and calcitonin. Doctors most often prescribe one of the four strongest bisphosphonates, which are risedronate, alendronate, pamidronate, and zoledronic acid.\",\n",
      "  \"source\": \"NIHSeniorHealth\",\n",
      "  \"focus_area\": \"Paget's Disease of Bone\"\n",
      "}\n"
     ]
    }
   ],
   "source": [
    "import random\n",
    "import json\n",
    "\n",
    "random.seed(202510)\n",
    "\n",
    "doc_piece = random.choice(documents)\n",
    "print(json.dumps(doc_piece, indent=2))"
   ]
  },
  {
   "cell_type": "code",
   "execution_count": 89,
   "id": "eb12ed9c-cf97-4f5c-99cc-bb983d889447",
   "metadata": {},
   "outputs": [
    {
     "name": "stdout",
     "output_type": "stream",
     "text": [
      "Early Diagnosis is Important Although there is no cure for Paget's disease of bone, it is treatable. Treatment is most effective when the disease is diagnosed early, before it causes major changes in the affected bones. The goal of treatment is to relieve bone pain and prevent the disease from progressing. Medications Are Available The Food and Drug Administration has approved several medications that can stop or slow down the progression of the disease and reduce pain and other symptoms. These medications fall into two categories: bisphosphonates and calcitonin. Both medications work by stopping or reducing the excessive breakdown of old bone that leads to excessive formation of new, but weaker, bone. People with Paget's disease should talk to their doctors about which medication is right for them. Bisphosphonates Six bisphosphonates are currently available for patients with Paget's disease. Doctors most commonly recommend the strongest ones, which include - risedronate  - alendronate   - pamidronate   - zoledronic acid   - tiludronate and etidronate are not as strong but may be appropriate for some patients.  risedronate alendronate pamidronate zoledronic acid tiludronate and etidronate are not as strong but may be appropriate for some patients. Some of the bisphosphonates approved for the treatment of Paget's disease, including risedronate and alendronate, are also approved for the treatment of osteoporosis. However, people with Paget's disease must take higher dosages of these medicines for shorter periods of time than people with osteoporosis. Calcitonin Doctors also may prescribe calcitonin to treat Paget's disease in some people, although it has been found to be less effective than bisphosphonates. Calcitonin is a naturally occurring hormone made by the thyroid gland. Your doctor may recommend that you repeat calcitonin treatments with brief rest periods in between treatments. The nasal spray form of calcitonin is not recommended or approved to treat Paget's disease. Surgery Surgery may be a treatment option for some people. Hip or knee replacement surgery may help people with severe arthritis. Surgery can also realign affected leg bones to reduce pain or help broken bones heal in a better position. Nutrition and Exercise Good nutrition and exercise are important for bone health, and that is true for people with Paget's disease as well. Women over age 50 should consume 1,200 milligrams (mg) of calcium daily. Men between the ages of 51 and 70 should consume 1,000 mg of calcium a day, and men over 70 should consume 1,200 mg per day. People ages 51 to 70 should consume at least 600 international units (IU) of vitamin D daily. People over age 70 should consume at least 800 IUs daily. Calcium keeps bones strong, and vitamin D helps the body absorb calcium. Exercise is very important in maintaining bone health, avoiding weight gain, and keeping joints mobile. However, people with Paget's disease need to avoid putting too much stress on affected bones. They should discuss their exercise program with their doctor to make sure it is a good one for them. Finding New Treatments Recently, there have been major advances in the treatment of Paget's disease of bone. Research into new treatments continues. Some researchers are trying to identify the genetic and viral causes of the disease. Other researchers are learning more about bone biology to better understand how the body breaks down old bone and replaces it with new bone.\n"
     ]
    }
   ],
   "source": [
    "results = search(doc_piece[\"question\"])\n",
    "print(results[0].payload[\"text\"])"
   ]
  },
  {
   "cell_type": "markdown",
   "id": "0720e540-2ecc-4d6c-8931-65ad2464ff9d",
   "metadata": {},
   "source": [
    "#### 1.3.4: Qdrant Universal Query API - prefetching\n",
    "\n",
    "Qdrant's `.query_points` method allows building multi-step search pipelines which can incorporate various methods into a single call. For example, we can retrieve some candidates with dense vector search, and then rerank them with sparse search, or use a fast method for initial retrieval and precise, but slow, reranking.\n",
    "\n",
    "```ascii\n",
    "┌─────────────┐           ┌─────────────┐\n",
    "│             │           │             │\n",
    "│  Retrieval  │ ────────► │  Reranking  │\n",
    "│             │           │             │\n",
    "└─────────────┘           └─────────────┘\n",
    "```\n",
    "\n",
    "Let's create another collection that will keep both dense and sparse representations. Qdrant named vectors allow us to store multiple representations per point and it proves useful especially when we want to use mulitple models in our applications."
   ]
  },
  {
   "cell_type": "code",
   "execution_count": 90,
   "id": "0123f3ad-f97e-40ad-8ff1-e4183e655adc",
   "metadata": {},
   "outputs": [
    {
     "data": {
      "text/plain": [
       "True"
      ]
     },
     "execution_count": 90,
     "metadata": {},
     "output_type": "execute_result"
    }
   ],
   "source": [
    "# Create the collection with both vector types\n",
    "client_q.create_collection(\n",
    "    collection_name=\"medicalQA-sparse-and-dense\",\n",
    "    vectors_config={\n",
    "        # Named dense vector for jinaai/jina-embeddings-v2-small-en\n",
    "        \"jina-small\": models.VectorParams(\n",
    "            size=512,\n",
    "            distance=models.Distance.COSINE,\n",
    "        ),\n",
    "    },\n",
    "    sparse_vectors_config={\n",
    "        \"bm25\": models.SparseVectorParams(\n",
    "            modifier=models.Modifier.IDF,\n",
    "        )\n",
    "    }\n",
    ")"
   ]
  },
  {
   "cell_type": "code",
   "execution_count": 92,
   "id": "7278a5ac-f0d9-41ba-8558-9a70c0f3a916",
   "metadata": {},
   "outputs": [
    {
     "data": {
      "text/plain": [
       "UpdateResult(operation_id=0, status=<UpdateStatus.COMPLETED: 'completed'>)"
      ]
     },
     "execution_count": 92,
     "metadata": {},
     "output_type": "execute_result"
    }
   ],
   "source": [
    "# Upload all the vectors into the newly created collection.\n",
    "client_q.upsert(\n",
    "    collection_name=\"medicalQA-sparse-and-dense\",\n",
    "    points=[\n",
    "        models.PointStruct(\n",
    "            id=uuid.uuid4().hex,\n",
    "            vector={ # contain two items here.\n",
    "                \"jina-small\": models.Document(\n",
    "                    text=doc[\"answer\"],\n",
    "                    model= model_handle # \"jinaai/jina-embeddings-v2-small-en\",\n",
    "                ),\n",
    "                \"bm25\": models.Document(\n",
    "                    text=doc[\"answer\"], \n",
    "                    model=\"Qdrant/bm25\",\n",
    "                ),\n",
    "            },\n",
    "            payload={\n",
    "                \"text\": doc[\"answer\"],\n",
    "                \"source\": doc[\"source\"],\n",
    "                \"focus_area\": doc[\"focus_area\"],\n",
    "            }\n",
    "        )\n",
    "        for doc in documents\n",
    "    ]\n",
    ")"
   ]
  },
  {
   "cell_type": "code",
   "execution_count": null,
   "id": "ef1774f1-a132-436e-b631-20d11e2b8d8b",
   "metadata": {},
   "outputs": [],
   "source": []
  },
  {
   "cell_type": "code",
   "execution_count": 104,
   "id": "c8282b6f-1962-47ae-941b-35f3ac857dc2",
   "metadata": {},
   "outputs": [],
   "source": [
    "def multi_stage_search(query: str, limit: int = 1) -> list[models.ScoredPoint]:\n",
    "    results = client_q.query_points(\n",
    "        collection_name=\"medicalQA-sparse-and-dense\",\n",
    "        prefetch=[\n",
    "            # only one prefetch\n",
    "            models.Prefetch(\n",
    "                query=models.Document(\n",
    "                    text=query,\n",
    "                    model=\"jinaai/jina-embeddings-v2-small-en\",\n",
    "                ),\n",
    "                using=\"jina-small\",\n",
    "                # Prefetch ten times more results, then\n",
    "                # expected to return, so we can really rerank\n",
    "                limit=(10 * limit),\n",
    "            ),\n",
    "        ],\n",
    "        query=models.Document(\n",
    "            text=query,\n",
    "            model=\"Qdrant/bm25\", \n",
    "        ),\n",
    "        using=\"bm25\",\n",
    "        limit=limit,\n",
    "        with_payload=True,\n",
    "    )\n",
    "\n",
    "    return results.points"
   ]
  },
  {
   "cell_type": "code",
   "execution_count": 103,
   "id": "99be7798-a539-48d7-8376-45749cb1845c",
   "metadata": {},
   "outputs": [
    {
     "name": "stdout",
     "output_type": "stream",
     "text": [
      "{\n",
      "  \"question\": \"What are the treatments for Paget's Disease of Bone ?\",\n",
      "  \"answer\": \"The Food and Drug Administration has approved several medications that can stop or slow down the progression of the disease and reduce pain and other symptoms. These medications fall into two categories: bisphosphonates and calcitonin. Doctors most often prescribe one of the four strongest bisphosphonates, which are risedronate, alendronate, pamidronate, and zoledronic acid.\",\n",
      "  \"source\": \"NIHSeniorHealth\",\n",
      "  \"focus_area\": \"Paget's Disease of Bone\"\n",
      "}\n"
     ]
    }
   ],
   "source": [
    "print(json.dumps(doc_piece, indent=2))"
   ]
  },
  {
   "cell_type": "code",
   "execution_count": 102,
   "id": "754403d8-85f5-4fbe-b243-4f933406b51c",
   "metadata": {},
   "outputs": [
    {
     "name": "stdout",
     "output_type": "stream",
     "text": [
      "Early Diagnosis is Important Although there is no cure for Paget's disease of bone, it is treatable. Treatment is most effective when the disease is diagnosed early, before it causes major changes in the affected bones. The goal of treatment is to relieve bone pain and prevent the disease from progressing. Medications Are Available The Food and Drug Administration has approved several medications that can stop or slow down the progression of the disease and reduce pain and other symptoms. These medications fall into two categories: bisphosphonates and calcitonin. Both medications work by stopping or reducing the excessive breakdown of old bone that leads to excessive formation of new, but weaker, bone. People with Paget's disease should talk to their doctors about which medication is right for them. Bisphosphonates Six bisphosphonates are currently available for patients with Paget's disease. Doctors most commonly recommend the strongest ones, which include - risedronate  - alendronate   - pamidronate   - zoledronic acid   - tiludronate and etidronate are not as strong but may be appropriate for some patients.  risedronate alendronate pamidronate zoledronic acid tiludronate and etidronate are not as strong but may be appropriate for some patients. Some of the bisphosphonates approved for the treatment of Paget's disease, including risedronate and alendronate, are also approved for the treatment of osteoporosis. However, people with Paget's disease must take higher dosages of these medicines for shorter periods of time than people with osteoporosis. Calcitonin Doctors also may prescribe calcitonin to treat Paget's disease in some people, although it has been found to be less effective than bisphosphonates. Calcitonin is a naturally occurring hormone made by the thyroid gland. Your doctor may recommend that you repeat calcitonin treatments with brief rest periods in between treatments. The nasal spray form of calcitonin is not recommended or approved to treat Paget's disease. Surgery Surgery may be a treatment option for some people. Hip or knee replacement surgery may help people with severe arthritis. Surgery can also realign affected leg bones to reduce pain or help broken bones heal in a better position. Nutrition and Exercise Good nutrition and exercise are important for bone health, and that is true for people with Paget's disease as well. Women over age 50 should consume 1,200 milligrams (mg) of calcium daily. Men between the ages of 51 and 70 should consume 1,000 mg of calcium a day, and men over 70 should consume 1,200 mg per day. People ages 51 to 70 should consume at least 600 international units (IU) of vitamin D daily. People over age 70 should consume at least 800 IUs daily. Calcium keeps bones strong, and vitamin D helps the body absorb calcium. Exercise is very important in maintaining bone health, avoiding weight gain, and keeping joints mobile. However, people with Paget's disease need to avoid putting too much stress on affected bones. They should discuss their exercise program with their doctor to make sure it is a good one for them. Finding New Treatments Recently, there have been major advances in the treatment of Paget's disease of bone. Research into new treatments continues. Some researchers are trying to identify the genetic and viral causes of the disease. Other researchers are learning more about bone biology to better understand how the body breaks down old bone and replaces it with new bone.\n"
     ]
    }
   ],
   "source": [
    "results = multi_stage_search(doc_piece[\"question\"])\n",
    "print(results[0].payload[\"text\"])"
   ]
  },
  {
   "cell_type": "markdown",
   "id": "07fa760b-7f8c-4dc5-bd2f-3ef192893976",
   "metadata": {},
   "source": [
    "#### 1.3.5: Building Hybrid Search\n",
    "\n",
    "In real production systems, you don't need to choose just one vector type. You never know what kind of queries your users will send to the system. E-commerce search might be just fine with lexical search on top of sparse vectors, as people will tend to send keywords, but in conversational systems, such as chatbots, natural language questions might be more frequent. Using one model as a retriever and another one as reranker is not the only way of how to use dense and sparse in a single system.\n",
    "\n",
    "Hybrid Search is a technique for combining results coming from different search methods - for example dense and sparse. There isn't a clear definition of how exactly to implement it, as the main problem is how to mix results coming from methods which are incompatible. Dense and sparse search scores can't be compared directly, so we need another method that will order the final results somehow.\n",
    "\n",
    "There are two terms important for Hybrid Search: **fusion** and **reranking**.\n",
    "\n",
    "##### Fusion\n",
    "\n",
    "Fusion is a set of methods which work on the scores/ranking as returned by the individual methods. There are various ways of how to achieve that, but Reciprocal Rank Fusion is the most popular technique. It is based on the rankings of the documents in each methods used, and these rankings are used to calculate the final scores. You will never calculate these scores, as Qdrant has some built-in capabilities that we will use. However, the following example can give you a rough intuition:\n",
    "\n",
    "| Document | Dense ranking | Sparse ranking | RRF score | Final ranking |\n",
    "| --- | --- | --- | --- | --- |\n",
    "| D1 | **1** | 5 | 0.0318 | 2 |\n",
    "| D2 | 2 | 4 | 0.0317 | 3 |\n",
    "| D3 | 3 | 2 | 0.0320 | **1** |\n",
    "| D4 | 4 | 3 | 0.0315 | 5 |\n",
    "| D5 | 5 | **1** | 0.0318 | 2 |"
   ]
  },
  {
   "cell_type": "code",
   "execution_count": 107,
   "id": "377461a9-f8ec-4b26-99ee-a394704a83e3",
   "metadata": {},
   "outputs": [],
   "source": [
    "def rrf_search(query: str, limit: int = 1) -> list[models.ScoredPoint]:\n",
    "    results = client_q.query_points(\n",
    "        collection_name=\"medicalQA-sparse-and-dense\",\n",
    "        prefetch=[\n",
    "            # two Prefetch() here \n",
    "            models.Prefetch(\n",
    "                query=models.Document(\n",
    "                    text=query,\n",
    "                    model=\"jinaai/jina-embeddings-v2-small-en\",\n",
    "                ),\n",
    "                using=\"jina-small\",\n",
    "                limit=(5 * limit),\n",
    "            ),\n",
    "            models.Prefetch(\n",
    "                query=models.Document(\n",
    "                    text=query,\n",
    "                    model=\"Qdrant/bm25\",\n",
    "                ),\n",
    "                using=\"bm25\",\n",
    "                limit=(5 * limit),\n",
    "            ),\n",
    "        ],\n",
    "        \n",
    "        # Fusion query enables fusion on the prefetched results\n",
    "        query=models.FusionQuery(fusion=models.Fusion.RRF),\n",
    "        \n",
    "        with_payload=True,\n",
    "    )\n",
    "\n",
    "    return results.points"
   ]
  },
  {
   "cell_type": "code",
   "execution_count": 108,
   "id": "3dfa235e-7de3-4506-a395-e9bc76e68f16",
   "metadata": {},
   "outputs": [
    {
     "name": "stdout",
     "output_type": "stream",
     "text": [
      "{\n",
      "  \"question\": \"What are the treatments for Paget's Disease of Bone ?\",\n",
      "  \"answer\": \"The Food and Drug Administration has approved several medications that can stop or slow down the progression of the disease and reduce pain and other symptoms. These medications fall into two categories: bisphosphonates and calcitonin. Doctors most often prescribe one of the four strongest bisphosphonates, which are risedronate, alendronate, pamidronate, and zoledronic acid.\",\n",
      "  \"source\": \"NIHSeniorHealth\",\n",
      "  \"focus_area\": \"Paget's Disease of Bone\"\n",
      "}\n",
      "Paget's disease of bone is a disease that causes affected bones to become enlarged and misshapen. Our bones are living tissue, and our bodies are constantly breaking down old bone and replacing it with new bone. In Paget's disease, however, old bone is broken down and replaced at a faster rate than normal. The new bone is larger and weaker than normal bone.\n"
     ]
    }
   ],
   "source": [
    "results = rrf_search(doc_piece[\"question\"])\n",
    "print(json.dumps(doc_piece, indent=2))\n",
    "print(results[0].payload[\"text\"])"
   ]
  },
  {
   "cell_type": "code",
   "execution_count": null,
   "id": "ff42c6db-d8aa-41b9-9d19-ffafafa9a307",
   "metadata": {},
   "outputs": [],
   "source": []
  },
  {
   "cell_type": "markdown",
   "id": "6f70bc03-575d-4576-8b1d-f82462feb485",
   "metadata": {},
   "source": [
    "## 2 RAG flow"
   ]
  },
  {
   "cell_type": "markdown",
   "id": "4829bd8f-1576-4c3d-abd4-ff39fb482722",
   "metadata": {},
   "source": [
    "### 2.1 RAG flow with keyword search"
   ]
  },
  {
   "cell_type": "code",
   "execution_count": 56,
   "id": "df985e5e-9c30-48dd-bc7e-4fa6072fcbf6",
   "metadata": {},
   "outputs": [],
   "source": [
    "from openai import OpenAI\n",
    "import os\n",
    "from dotenv import load_dotenv\n",
    "load_dotenv()\n",
    "\n",
    "# api_key = os.getenv(\"OPENAI_API_KEY\") # create a .env in the jupy project directory ($pwd) and write OPENAI_API_KEY=\"your_open_ai_key\"\n",
    "api_key = os.environ['HPG_API_KEY']\n",
    "\n",
    "client = OpenAI(api_key=api_key,\n",
    "                base_url=\"https://api.ai.it.ufl.edu\" # add it if use HPG_API_KEY, comment it if use OPENAI_API_KEY \n",
    "                )"
   ]
  },
  {
   "cell_type": "code",
   "execution_count": 57,
   "id": "96687ff0-3348-4743-a56a-786127c84fb7",
   "metadata": {},
   "outputs": [],
   "source": [
    "def search(query):\n",
    "    boost = {'question': 3.0, 'source': 0.5}\n",
    "\n",
    "    results = index_min.search(\n",
    "        query=query,\n",
    "        filter_dict={}, # example {'scource': 'NIHSeniorHealth'}\n",
    "        boost_dict=boost,\n",
    "        num_results=6\n",
    "    )\n",
    "\n",
    "    return results"
   ]
  },
  {
   "cell_type": "code",
   "execution_count": 69,
   "id": "5f67b905-4655-4cf8-a8db-00ca87b9decf",
   "metadata": {},
   "outputs": [],
   "source": [
    "query = \"What is Glaucoma, the reason why it happens and suitalbe treatment?\"\n",
    "context_snippets = search(query) # what's retrived"
   ]
  },
  {
   "cell_type": "code",
   "execution_count": 29,
   "id": "da6d199e-07cc-4246-b964-3b6726f37cf2",
   "metadata": {},
   "outputs": [
    {
     "data": {
      "text/plain": [
       "[{'question': 'What is (are) Glaucoma ?',\n",
       "  'answer': \"Glaucoma is a group of diseases that can damage the eye's optic nerve and result in vision loss and blindness. The most common form of the disease is open-angle glaucoma. With early treatment, you can often protect your eyes against serious vision loss. (Watch the video to learn more about glaucoma. To enlarge the video, click the brackets in the lower right-hand corner. To reduce the video, press the Escape (Esc) button on your keyboard.)  See this graphic for a quick overview of glaucoma, including how many people it affects, whos at risk, what to do if you have it, and how to learn more.  See a glossary of glaucoma terms.\",\n",
       "  'source': 'NIHSeniorHealth',\n",
       "  'focus_area': 'Glaucoma'},\n",
       " {'question': 'What is (are) Glaucoma ?',\n",
       "  'answer': \"Glaucoma is a group of diseases that can damage the eye's optic nerve and result in vision loss and blindness. While glaucoma can strike anyone, the risk is much greater for people over 60. How Glaucoma Develops  There are several different types of glaucoma. Most of these involve the drainage system within the eye. At the front of the eye there is a small space called the anterior chamber. A clear fluid flows through this chamber and bathes and nourishes the nearby tissues. (Watch the video to learn more about glaucoma. To enlarge the video, click the brackets in the lower right-hand corner. To reduce the video, press the Escape (Esc) button on your keyboard.) In glaucoma, for still unknown reasons, the fluid drains too slowly out of the eye. As the fluid builds up, the pressure inside the eye rises. Unless this pressure is controlled, it may cause damage to the optic nerve and other parts of the eye and result in loss of vision. Open-angle Glaucoma The most common type of glaucoma is called open-angle glaucoma. In the normal eye, the clear fluid leaves the anterior chamber at the open angle where the cornea and iris meet. When fluid reaches the angle, it flows through a spongy meshwork, like a drain, and leaves the eye. Sometimes, when the fluid reaches the angle, it passes too slowly through the meshwork drain, causing the pressure inside the eye to build. If the pressure damages the optic nerve, open-angle glaucoma -- and vision loss -- may result. There is no cure for glaucoma. Vision lost from the disease cannot be restored. However, there are treatments that may save remaining vision. That is why early diagnosis is important.  See this graphic for a quick overview of glaucoma,  including how many people it affects, whos at risk, what to do if you have it, and how to learn more.  See a glossary of glaucoma terms.\",\n",
       "  'source': 'NIHSeniorHealth',\n",
       "  'focus_area': 'Glaucoma'},\n",
       " {'question': 'What is (are) Glaucoma ?',\n",
       "  'answer': 'Open-angle glaucoma is the most common form of glaucoma. In the normal eye, the clear fluid leaves the anterior chamber at the open angle where the cornea and iris meet. When the fluid reaches the angle, it flows through a spongy meshwork, like a drain, and leaves the eye. Sometimes, when the fluid reaches the angle, it passes too slowly through the meshwork drain, causing the pressure inside the eye to build. If the pressure damages the optic nerve, open-angle glaucoma -- and vision loss -- may result.',\n",
       "  'source': 'NIHSeniorHealth',\n",
       "  'focus_area': 'Glaucoma'},\n",
       " {'question': 'What is (are) Glaucoma ?',\n",
       "  'answer': 'National Eye Institute  National Institutes of Health  2020 Vision Place  Bethesda, MD 20892-3655  301-496-5248  E-mail: 2020@nei.nih.gov  www.nei.nih.gov The Glaucoma Foundation  80 Maiden Lane, Suite 700  New York, NY 10038  212-285-0080 Glaucoma Research Foundation  251 Post Street, Suite 600  San Francisco, CA 94108  1-800-826-6693',\n",
       "  'source': 'NIHSeniorHealth',\n",
       "  'focus_area': 'Glaucoma'},\n",
       " {'question': 'What is (are) Glaucoma ?',\n",
       "  'answer': 'The optic nerve is a bundle of more than 1 million nerve fibers. It connects the retina to the brain.',\n",
       "  'source': 'NIHSeniorHealth',\n",
       "  'focus_area': 'Glaucoma'},\n",
       " {'question': 'What are the treatments for Glaucoma ?',\n",
       "  'answer': 'Although open-angle glaucoma cannot be cured, it can usually be controlled. While treatments may save remaining vision, they do not improve sight already lost from glaucoma. The most common treatments for glaucoma are medication and surgery. Medications  Medications for glaucoma may be either in the form of eye drops or pills. Some drugs reduce pressure by slowing the flow of fluid into the eye. Others help to improve fluid drainage. (Watch the video to learn more about coping with glaucoma. To enlarge the video, click the brackets in the lower right-hand corner. To reduce the video, press the Escape (Esc) button on your keyboard.) For most people with glaucoma, regular use of medications will control the increased fluid pressure. But, these drugs may stop working over time. Or, they may cause side effects. If a problem occurs, the eye care professional may select other drugs, change the dose, or suggest other ways to deal with the problem.  Read or listen to ways some patients are coping with glaucoma. Surgery Laser surgery is another treatment for glaucoma. During laser surgery, a strong beam of light is focused on the part of the anterior chamber where the fluid leaves the eye. This results in a series of small changes that makes it easier for fluid to exit the eye. Over time, the effect of laser surgery may wear off. Patients who have this form of surgery may need to keep taking glaucoma drugs. Researching Causes and Treatments Through studies in the laboratory and with patients, NEI is seeking better ways to detect, treat, and prevent vision loss in people with glaucoma. For example, researchers have discovered genes that could help explain how glaucoma damages the eye. NEI also is supporting studies to learn more about who is likely to get glaucoma, when to treat people who have increased eye pressure, and which treatment to use first.',\n",
       "  'source': 'NIHSeniorHealth',\n",
       "  'focus_area': 'Glaucoma'}]"
      ]
     },
     "execution_count": 29,
     "metadata": {},
     "output_type": "execute_result"
    }
   ],
   "source": [
    "context_snippets"
   ]
  },
  {
   "cell_type": "code",
   "execution_count": 70,
   "id": "f8c6bbea-e2cc-4a40-9bb4-0f8b931a5d8f",
   "metadata": {},
   "outputs": [],
   "source": [
    "def build_prompt(query, search_results):\n",
    "    prompt_template = \"\"\"\n",
    "    You're an assistant at the front desk of meadical information. Answer the QUESTION based on the CONTEXT from the FAQ database.\n",
    "    Use only the facts from the CONTEXT when answering the QUESTION.\n",
    "    \n",
    "    QUESTION: {question}\n",
    "    \n",
    "    CONTEXT: \n",
    "    {context}\n",
    "    \"\"\".strip()\n",
    "\n",
    "    entry_template = \"\"\"\n",
    "    question_in_db: {question}\n",
    "    answer_in_db: {answer}\n",
    "    cource_in_db: {source}\n",
    "    focus_area_indb: {focus_area}\n",
    "    \"\"\".strip()\n",
    "\n",
    "    retrieved_context = \"\"\n",
    "    \n",
    "    for doc in search_results:\n",
    "        # \"**\" unpacks the key-value pairs from the doc dictionary and passes them as keyword arguments to the format() method.\n",
    "        # note to \"**\": the keys in the dictionary MUST match the placeholders in your template string\n",
    "        retrieved_context += entry_template.format(**doc) + \"\\n\\n\"\n",
    "    \n",
    "    prompt = prompt_template.format(question=query, context=retrieved_context).strip()\n",
    "    return prompt"
   ]
  },
  {
   "cell_type": "code",
   "execution_count": 82,
   "id": "3881e794-a85b-4bd2-a9a0-ae5ab1021776",
   "metadata": {},
   "outputs": [],
   "source": [
    "def llm(prompt, model='gpt-oss-120b'):\n",
    "    response = client.chat.completions.create(model=model,\n",
    "                                              messages=[{\"role\": \"user\", \"content\": prompt}]\n",
    "                                             )\n",
    "    \n",
    "    return response.choices[0].message.content"
   ]
  },
  {
   "cell_type": "markdown",
   "id": "4f8366a5-3853-4e91-84e1-f1b09776d9d0",
   "metadata": {},
   "source": [
    "* client.images.generate(): Creates an image based on a text prompt using models like DALL-E 3.\n",
    "* client.images.edit(): Creates an edited or extended version of an image based on a prompt and an original image.\n",
    "* client.images.create_variation(): Generates a variation of a given image. \n",
    "\n",
    "* client.audio.transcriptions.create(): Transcribes an audio file into text using the Whisper model. This method is highly accurate and multilingual.\n",
    "* client.audio.translations.create(): Translates an audio file into English.\n",
    "* client.audio.speech.create(): Converts text into natural-sounding speech. \n",
    "\n",
    "* client.embeddings.create(): Creates a numerical vector representation (embedding) of a given text input. This is useful for semantic search, clustering, and classification.\n",
    "  \n",
    "* client.fine_tuning.jobs.create(): Creates a fine-tuning job to train a custom model on your own data. The client also has methods for listing, retrieving, and canceling these jobs.\n",
    "  \n",
    "* client.moderations.create(): Checks whether a given text input is inappropriate or unsafe, helping to filter potentially harmful content.\n",
    "  \n",
    "* client.models.list(): Lists all the models available to your account.\n",
    "* client.files.list(): Lists all files that have been uploaded to your OpenAI account.\n",
    "* client.files.upload(): Uploads a file for a specific purpose, such as fine-tuning or file search. "
   ]
  },
  {
   "cell_type": "code",
   "execution_count": 72,
   "id": "9d1d1c70-a21d-4af7-8168-22215303687d",
   "metadata": {},
   "outputs": [],
   "source": [
    "def rag(query, model='gpt-oss-120b'):\n",
    "    # retrieve info relevant to the query\n",
    "    search_results = search(query)\n",
    "\n",
    "    # integrate the original query with the retrieved info as a new prompt\n",
    "    prompt = build_prompt(query, search_results)\n",
    "    \n",
    "    #feed the integrated prompt to a LLM\n",
    "    answer = llm(prompt, model=model)\n",
    "    \n",
    "    return answer"
   ]
  },
  {
   "cell_type": "code",
   "execution_count": 33,
   "id": "c77a0a9e-3955-405f-8bff-66214f79e6c3",
   "metadata": {},
   "outputs": [
    {
     "name": "stdout",
     "output_type": "stream",
     "text": [
      "Cancer does not arise from a single cause; doctors look at several risk factors when assessing why a person might develop it.  \n",
      "According to the information in the FAQ database, the main factors that can contribute to the development of cancer include:\n",
      "\n",
      "* **Personal medical history** – past health conditions can influence risk.  \n",
      "* **Smoking history** – tobacco use is specifically mentioned as a key element doctors evaluate.  \n",
      "* **Exposure to environmental or occupational substances** – contact with certain chemicals or pollutants can increase risk.  \n",
      "* **Family history of cancer** – having close relatives with cancer is another factor doctors consider.\n",
      "\n",
      "These elements are examined together to understand an individual’s chance of developing cancer. (Source: NIH Senior Health, Lung Cancer FAQ).\n"
     ]
    }
   ],
   "source": [
    "question = \"what is the reason of developing a cancer?\"\n",
    "answer = rag(question)\n",
    "print(answer)"
   ]
  },
  {
   "cell_type": "markdown",
   "id": "dcc23eab-e3f8-4e2a-9592-365a6a599772",
   "metadata": {},
   "source": [
    "### 2.2 RAG with vector search"
   ]
  },
  {
   "cell_type": "code",
   "execution_count": 34,
   "id": "3507ee41-b127-428d-b0f2-3a972df71eec",
   "metadata": {},
   "outputs": [],
   "source": [
    "def search_in_source(query, source=\"NIHSeniorHealth\", limit=1):\n",
    "\n",
    "    results = client_q.query_points(\n",
    "        collection_name=collection_name,\n",
    "        query=models.Document( #embed the query text locally with \"jinaai/jina-embeddings-v2-small-en\"\n",
    "            text=query,\n",
    "            model=model_handle\n",
    "        ),\n",
    "        query_filter=models.Filter( # filter by course name\n",
    "            must=[\n",
    "                models.FieldCondition(\n",
    "                    key=\"source\",\n",
    "                    match=models.MatchValue(value=source)\n",
    "                )\n",
    "            ]\n",
    "        ),\n",
    "        limit=limit, # top closest matches\n",
    "        with_payload=True #to get metadata in the results\n",
    "    )\n",
    "\n",
    "    return results"
   ]
  },
  {
   "cell_type": "code",
   "execution_count": 35,
   "id": "c8310d15-a269-42e8-a597-dac5beea6e2c",
   "metadata": {},
   "outputs": [],
   "source": [
    "def search_in_source2(query, source=\"NIHSeniorHealth\", limit=1):\n",
    "\n",
    "    query_points = client_q.query_points(\n",
    "        collection_name=collection_name,\n",
    "        query=models.Document( #embed the query text locally with \"jinaai/jina-embeddings-v2-small-en\"\n",
    "            text=query,\n",
    "            model=model_handle\n",
    "        ),\n",
    "        query_filter=models.Filter( # filter by course name\n",
    "            must=[\n",
    "                models.FieldCondition(\n",
    "                    key=\"source\",\n",
    "                    match=models.MatchValue(value=source)\n",
    "                )\n",
    "            ]\n",
    "        ),\n",
    "        limit=limit, # top closest matches\n",
    "        with_payload=True #to get metadata in the results\n",
    "    )\n",
    "\n",
    "    results = []\n",
    "    for point in query_points.points:\n",
    "        results.append(point.payload)\n",
    "    \n",
    "    return results"
   ]
  },
  {
   "cell_type": "code",
   "execution_count": 36,
   "id": "5a5ac1c5-3cf7-4dca-874e-e8ecc4db8588",
   "metadata": {},
   "outputs": [],
   "source": [
    "def build_prompt_vec(query, search_results):\n",
    "    prompt_template = \"\"\"\n",
    "    You're an assistant at the front desk of meadical information. Answer the QUESTION based on the CONTEXT from the FAQ database.\n",
    "    Use only the facts from the CONTEXT when answering the QUESTION.\n",
    "    \n",
    "    QUESTION: {question}\n",
    "    \n",
    "    CONTEXT: \n",
    "    {context}\n",
    "    \"\"\".strip()\n",
    "\n",
    "    entry_template = \"\"\"\n",
    "    answer_in_db: {text}\n",
    "    cource_in_db: {source}\n",
    "    focus_area_indb: {focus_area}\n",
    "    \"\"\".strip()\n",
    "\n",
    "    retrieved_context = \"\"\n",
    "    \n",
    "    for doc in search_results:\n",
    "        # \"**\" unpacks the key-value pairs from the doc dictionary and passes them as keyword arguments to the format() method.\n",
    "        # note to \"**\": the keys in the dictionary MUST match the placeholders in your template string\n",
    "        retrieved_context += entry_template.format(**doc) + \"\\n\\n\"\n",
    "    \n",
    "    prompt = prompt_template.format(question=query, context=retrieved_context).strip()\n",
    "    return prompt"
   ]
  },
  {
   "cell_type": "code",
   "execution_count": 84,
   "id": "14b77ebf-ce2f-44df-a02d-01ea13f048b1",
   "metadata": {},
   "outputs": [],
   "source": [
    "def rag(query, model='gpt-oss-120b'):\n",
    "    search_results = search_in_source2(query)\n",
    "    prompt = build_prompt_vec(query, search_results)\n",
    "    answer = llm(prompt, model=model)\n",
    "    return answer"
   ]
  },
  {
   "cell_type": "code",
   "execution_count": 38,
   "id": "8fde10d7-f2af-41ae-9cdc-09319e2ddac6",
   "metadata": {},
   "outputs": [
    {
     "name": "stdout",
     "output_type": "stream",
     "text": [
      "Cancer develops when the normal process of creating new cells goes wrong. Errors cause cells to become abnormal and to divide uncontrollably, leading to the formation of cancerous tissue.\n"
     ]
    }
   ],
   "source": [
    "question = \"what is the reason of developing a cancer?\"\n",
    "answer = rag(question)\n",
    "print(answer)"
   ]
  },
  {
   "cell_type": "markdown",
   "id": "c8c5d887-6e2b-4de9-806d-2f63ab456779",
   "metadata": {},
   "source": [
    "vector search is much better than keyword search"
   ]
  },
  {
   "cell_type": "code",
   "execution_count": null,
   "id": "a61222a5-f0ac-47f7-8cb3-9051b399e8e1",
   "metadata": {},
   "outputs": [],
   "source": []
  },
  {
   "cell_type": "code",
   "execution_count": null,
   "id": "8fa817a4-f052-49f0-943f-7bafd56f80c9",
   "metadata": {},
   "outputs": [],
   "source": []
  },
  {
   "cell_type": "markdown",
   "id": "9100bd80-431d-4990-98f7-0ef5ed0fd174",
   "metadata": {},
   "source": [
    "## 3. Retrieval evaluation"
   ]
  },
  {
   "cell_type": "markdown",
   "id": "c2d0c598-a982-4f68-a321-eec2b99a33e5",
   "metadata": {},
   "source": [
    "Qdrant vector search can't handle too manch records"
   ]
  },
  {
   "cell_type": "code",
   "execution_count": 8,
   "id": "d342df6d-8a88-4c27-a01e-e02b4f0bba06",
   "metadata": {},
   "outputs": [],
   "source": [
    "df_question = pd.read_csv('ground-truth-data_576.csv', usecols=['question', 'id'])\n",
    "\n",
    "with open('documents-with-ids.json', 'r') as f:\n",
    "    js = json.load(f)\n",
    "\n",
    "# convert to df for filling nan\n",
    "df = pd.DataFrame(js)\n",
    "df.dropna(inplace = True)"
   ]
  },
  {
   "cell_type": "code",
   "execution_count": 9,
   "id": "cf384fa1-b907-4a72-bd6b-a3fe4f9c524f",
   "metadata": {},
   "outputs": [],
   "source": [
    "matching_records_df = df[df['id'].isin(df_question['id'])]"
   ]
  },
  {
   "cell_type": "code",
   "execution_count": 10,
   "id": "a2ccff43-a147-4786-b906-6839a482fe49",
   "metadata": {},
   "outputs": [
    {
     "data": {
      "text/html": [
       "<div>\n",
       "<style scoped>\n",
       "    .dataframe tbody tr th:only-of-type {\n",
       "        vertical-align: middle;\n",
       "    }\n",
       "\n",
       "    .dataframe tbody tr th {\n",
       "        vertical-align: top;\n",
       "    }\n",
       "\n",
       "    .dataframe thead th {\n",
       "        text-align: right;\n",
       "    }\n",
       "</style>\n",
       "<table border=\"1\" class=\"dataframe\">\n",
       "  <thead>\n",
       "    <tr style=\"text-align: right;\">\n",
       "      <th></th>\n",
       "      <th>question</th>\n",
       "      <th>answer</th>\n",
       "      <th>source</th>\n",
       "      <th>focus_area</th>\n",
       "      <th>id</th>\n",
       "    </tr>\n",
       "  </thead>\n",
       "  <tbody>\n",
       "    <tr>\n",
       "      <th>0</th>\n",
       "      <td>What is (are) Glaucoma ?</td>\n",
       "      <td>Glaucoma is a group of diseases that can damag...</td>\n",
       "      <td>NIHSeniorHealth</td>\n",
       "      <td>Glaucoma</td>\n",
       "      <td>641e393e8</td>\n",
       "    </tr>\n",
       "    <tr>\n",
       "      <th>1</th>\n",
       "      <td>What causes Glaucoma ?</td>\n",
       "      <td>Nearly 2.7 million people have glaucoma, a lea...</td>\n",
       "      <td>NIHSeniorHealth</td>\n",
       "      <td>Glaucoma</td>\n",
       "      <td>dc2b69cd1</td>\n",
       "    </tr>\n",
       "    <tr>\n",
       "      <th>2</th>\n",
       "      <td>What are the symptoms of Glaucoma ?</td>\n",
       "      <td>Symptoms of Glaucoma  Glaucoma can develop in ...</td>\n",
       "      <td>NIHSeniorHealth</td>\n",
       "      <td>Glaucoma</td>\n",
       "      <td>c6c94a788</td>\n",
       "    </tr>\n",
       "    <tr>\n",
       "      <th>3</th>\n",
       "      <td>What are the treatments for Glaucoma ?</td>\n",
       "      <td>Although open-angle glaucoma cannot be cured, ...</td>\n",
       "      <td>NIHSeniorHealth</td>\n",
       "      <td>Glaucoma</td>\n",
       "      <td>b44df4cf1</td>\n",
       "    </tr>\n",
       "    <tr>\n",
       "      <th>4</th>\n",
       "      <td>What is (are) Glaucoma ?</td>\n",
       "      <td>Glaucoma is a group of diseases that can damag...</td>\n",
       "      <td>NIHSeniorHealth</td>\n",
       "      <td>Glaucoma</td>\n",
       "      <td>fbabdc01a</td>\n",
       "    </tr>\n",
       "    <tr>\n",
       "      <th>...</th>\n",
       "      <td>...</td>\n",
       "      <td>...</td>\n",
       "      <td>...</td>\n",
       "      <td>...</td>\n",
       "      <td>...</td>\n",
       "    </tr>\n",
       "    <tr>\n",
       "      <th>571</th>\n",
       "      <td>How to diagnose Peripheral Arterial Disease (P...</td>\n",
       "      <td>Your Family and Medical History P.A.D. is diag...</td>\n",
       "      <td>NIHSeniorHealth</td>\n",
       "      <td>Peripheral Arterial Disease (P.A.D.)</td>\n",
       "      <td>2ce3ee1e6</td>\n",
       "    </tr>\n",
       "    <tr>\n",
       "      <th>572</th>\n",
       "      <td>What is (are) Peripheral Arterial Disease (P.A...</td>\n",
       "      <td>Peripheral arterial disease (P.A.D.) is a dise...</td>\n",
       "      <td>NIHSeniorHealth</td>\n",
       "      <td>Peripheral Arterial Disease (P.A.D.)</td>\n",
       "      <td>9fb667609</td>\n",
       "    </tr>\n",
       "    <tr>\n",
       "      <th>573</th>\n",
       "      <td>What causes Peripheral Arterial Disease (P.A.D...</td>\n",
       "      <td>The most common cause of P.A.D. is atheroscler...</td>\n",
       "      <td>NIHSeniorHealth</td>\n",
       "      <td>Peripheral Arterial Disease (P.A.D.)</td>\n",
       "      <td>86e605559</td>\n",
       "    </tr>\n",
       "    <tr>\n",
       "      <th>574</th>\n",
       "      <td>Who is at risk for Peripheral Arterial Disease...</td>\n",
       "      <td>Smoking is the main risk factor for P.A.D. You...</td>\n",
       "      <td>NIHSeniorHealth</td>\n",
       "      <td>Peripheral Arterial Disease (P.A.D.)</td>\n",
       "      <td>78fa66811</td>\n",
       "    </tr>\n",
       "    <tr>\n",
       "      <th>575</th>\n",
       "      <td>What are the symptoms of Peripheral Arterial D...</td>\n",
       "      <td>People who have P.A.D. may have symptoms when ...</td>\n",
       "      <td>NIHSeniorHealth</td>\n",
       "      <td>Peripheral Arterial Disease (P.A.D.)</td>\n",
       "      <td>8c7e1b0c2</td>\n",
       "    </tr>\n",
       "  </tbody>\n",
       "</table>\n",
       "<p>576 rows × 5 columns</p>\n",
       "</div>"
      ],
      "text/plain": [
       "                                              question  \\\n",
       "0                             What is (are) Glaucoma ?   \n",
       "1                               What causes Glaucoma ?   \n",
       "2                  What are the symptoms of Glaucoma ?   \n",
       "3               What are the treatments for Glaucoma ?   \n",
       "4                             What is (are) Glaucoma ?   \n",
       "..                                                 ...   \n",
       "571  How to diagnose Peripheral Arterial Disease (P...   \n",
       "572  What is (are) Peripheral Arterial Disease (P.A...   \n",
       "573  What causes Peripheral Arterial Disease (P.A.D...   \n",
       "574  Who is at risk for Peripheral Arterial Disease...   \n",
       "575  What are the symptoms of Peripheral Arterial D...   \n",
       "\n",
       "                                                answer           source  \\\n",
       "0    Glaucoma is a group of diseases that can damag...  NIHSeniorHealth   \n",
       "1    Nearly 2.7 million people have glaucoma, a lea...  NIHSeniorHealth   \n",
       "2    Symptoms of Glaucoma  Glaucoma can develop in ...  NIHSeniorHealth   \n",
       "3    Although open-angle glaucoma cannot be cured, ...  NIHSeniorHealth   \n",
       "4    Glaucoma is a group of diseases that can damag...  NIHSeniorHealth   \n",
       "..                                                 ...              ...   \n",
       "571  Your Family and Medical History P.A.D. is diag...  NIHSeniorHealth   \n",
       "572  Peripheral arterial disease (P.A.D.) is a dise...  NIHSeniorHealth   \n",
       "573  The most common cause of P.A.D. is atheroscler...  NIHSeniorHealth   \n",
       "574  Smoking is the main risk factor for P.A.D. You...  NIHSeniorHealth   \n",
       "575  People who have P.A.D. may have symptoms when ...  NIHSeniorHealth   \n",
       "\n",
       "                               focus_area         id  \n",
       "0                                Glaucoma  641e393e8  \n",
       "1                                Glaucoma  dc2b69cd1  \n",
       "2                                Glaucoma  c6c94a788  \n",
       "3                                Glaucoma  b44df4cf1  \n",
       "4                                Glaucoma  fbabdc01a  \n",
       "..                                    ...        ...  \n",
       "571  Peripheral Arterial Disease (P.A.D.)  2ce3ee1e6  \n",
       "572  Peripheral Arterial Disease (P.A.D.)  9fb667609  \n",
       "573  Peripheral Arterial Disease (P.A.D.)  86e605559  \n",
       "574  Peripheral Arterial Disease (P.A.D.)  78fa66811  \n",
       "575  Peripheral Arterial Disease (P.A.D.)  8c7e1b0c2  \n",
       "\n",
       "[576 rows x 5 columns]"
      ]
     },
     "execution_count": 10,
     "metadata": {},
     "output_type": "execute_result"
    }
   ],
   "source": [
    "matching_records_df"
   ]
  },
  {
   "cell_type": "code",
   "execution_count": 11,
   "id": "9e41a0aa-8f78-4aeb-b334-dd963d63a758",
   "metadata": {},
   "outputs": [],
   "source": [
    "ground_truth = df_question.to_dict(orient='records')"
   ]
  },
  {
   "cell_type": "code",
   "execution_count": 14,
   "id": "73eb91cb-f29a-44e9-97b7-ba256586e781",
   "metadata": {},
   "outputs": [],
   "source": [
    "documents_wID = matching_records_df.to_dict(orient='records')"
   ]
  },
  {
   "cell_type": "markdown",
   "id": "636968bf-620b-4bee-87a2-977d689c9f55",
   "metadata": {},
   "source": [
    "### 3.1 keyword search via minsearch"
   ]
  },
  {
   "cell_type": "code",
   "execution_count": 13,
   "id": "3ad9e893-c880-4af5-b6df-4a9b2806d219",
   "metadata": {},
   "outputs": [],
   "source": [
    "def hit_rate(relevance_total):\n",
    "    cnt = 0\n",
    "\n",
    "    for line in relevance_total:\n",
    "        if True in line:\n",
    "            cnt = cnt + 1\n",
    "\n",
    "    return cnt / len(relevance_total)\n",
    "\n",
    "def mrr(relevance_total):\n",
    "    total_score = 0.0\n",
    "\n",
    "    for line in relevance_total:\n",
    "        for rank in range(len(line)):\n",
    "            if line[rank] == True:\n",
    "                total_score = total_score + 1 / (rank + 1)\n",
    "\n",
    "    return total_score / len(relevance_total)"
   ]
  },
  {
   "cell_type": "code",
   "execution_count": 17,
   "id": "de11c5a0-b65b-4b76-ae4d-9d876d8b0a7f",
   "metadata": {},
   "outputs": [
    {
     "data": {
      "text/plain": [
       "<minsearch.Index at 0x7a927bdcef80>"
      ]
     },
     "execution_count": 17,
     "metadata": {},
     "output_type": "execute_result"
    }
   ],
   "source": [
    "index = minsearch.Index(\n",
    "    text_fields=['question', 'answer', 'source', 'focus_area'],\n",
    "    keyword_fields=['id']\n",
    ")\n",
    "\n",
    "index.fit(documents_wID)"
   ]
  },
  {
   "cell_type": "code",
   "execution_count": 18,
   "id": "7d576457-2365-49bc-a573-df306e999c7f",
   "metadata": {},
   "outputs": [],
   "source": [
    "def minsearch_search(query):\n",
    "    boost = {}\n",
    "\n",
    "    results = index.search(\n",
    "        query=query,\n",
    "        filter_dict={},\n",
    "        boost_dict=boost,\n",
    "        num_results=10\n",
    "    )\n",
    "\n",
    "    return results"
   ]
  },
  {
   "cell_type": "code",
   "execution_count": 19,
   "id": "bde9bbdd-f1a3-4e73-8538-d2591ed159c4",
   "metadata": {},
   "outputs": [],
   "source": [
    "def evaluate(ground_truth, search_function):\n",
    "    relevance_total = []\n",
    "\n",
    "    for q in tqdm(ground_truth):\n",
    "        #print(q)\n",
    "        doc_id = q['id']\n",
    "        results = search_function(q)\n",
    "        #print(results)\n",
    "        relevance = [d['id'] == doc_id for d in results]\n",
    "        relevance_total.append(relevance)\n",
    "\n",
    "    return {\n",
    "        'hit_rate': hit_rate(relevance_total),\n",
    "        'mrr': mrr(relevance_total),\n",
    "    }"
   ]
  },
  {
   "cell_type": "code",
   "execution_count": 20,
   "id": "49033d89-9f85-4374-a379-28b4dd9ec14e",
   "metadata": {},
   "outputs": [
    {
     "name": "stderr",
     "output_type": "stream",
     "text": [
      "/home/baozh166/.local/lib/python3.10/site-packages/tqdm/auto.py:21: TqdmWarning: IProgress not found. Please update jupyter and ipywidgets. See https://ipywidgets.readthedocs.io/en/stable/user_install.html\n",
      "  from .autonotebook import tqdm as notebook_tqdm\n"
     ]
    }
   ],
   "source": [
    "from tqdm.auto import tqdm"
   ]
  },
  {
   "cell_type": "code",
   "execution_count": 21,
   "id": "d2dd4e92-ca43-4b0c-ae47-6ec89b83a622",
   "metadata": {},
   "outputs": [
    {
     "name": "stderr",
     "output_type": "stream",
     "text": [
      "100%|██████████████████████████████████████████████████████████████████████████████| 2880/2880 [00:13<00:00, 211.83it/s]\n"
     ]
    }
   ],
   "source": [
    "eval_res = evaluate(ground_truth, lambda q: minsearch_search(q['question']))"
   ]
  },
  {
   "cell_type": "code",
   "execution_count": 22,
   "id": "31bd957d-63fe-4d51-9d47-1d4c700a7b3e",
   "metadata": {},
   "outputs": [
    {
     "data": {
      "text/plain": [
       "{'hit_rate': 0.45243055555555556, 'mrr': 0.21952325837742503}"
      ]
     },
     "execution_count": 22,
     "metadata": {},
     "output_type": "execute_result"
    }
   ],
   "source": [
    "eval_res"
   ]
  },
  {
   "cell_type": "markdown",
   "id": "95137144-7060-4e4c-aba5-359de3085144",
   "metadata": {},
   "source": [
    "### 3.2 Finding the best parameters for keyword search"
   ]
  },
  {
   "cell_type": "code",
   "execution_count": 39,
   "id": "387e641c-6592-4e4f-b191-1e5ca7598f2e",
   "metadata": {},
   "outputs": [],
   "source": [
    "df_validation = df_question[:100]\n",
    "df_test = df_question[100:]"
   ]
  },
  {
   "cell_type": "code",
   "execution_count": 40,
   "id": "1a95c044-df61-4cb6-84a9-19ff9e1ef107",
   "metadata": {},
   "outputs": [],
   "source": [
    "import random\n",
    "\n",
    "def simple_optimize(param_ranges, objective_function, n_iterations=10):\n",
    "    best_params = None\n",
    "    best_score = float('-inf')  # Assuming we're minimizing. Use float('-inf') if maximizing.\n",
    "\n",
    "    for _ in range(n_iterations):\n",
    "        # Generate random parameters\n",
    "        current_params = {}\n",
    "        for param, (min_val, max_val) in param_ranges.items():\n",
    "            if isinstance(min_val, int) and isinstance(max_val, int):\n",
    "                current_params[param] = random.randint(min_val, max_val)\n",
    "            else:\n",
    "                current_params[param] = random.uniform(min_val, max_val)\n",
    "        \n",
    "        # Evaluate the objective function\n",
    "        current_score = objective_function(current_params)\n",
    "        \n",
    "        # Update best if current is better\n",
    "        if current_score > best_score:  # Change to > if maximizing\n",
    "            best_score = current_score\n",
    "            best_params = current_params\n",
    "    \n",
    "    return best_params, best_score"
   ]
  },
  {
   "cell_type": "code",
   "execution_count": 41,
   "id": "6535225c-aa11-4875-895e-f84f2020083a",
   "metadata": {},
   "outputs": [],
   "source": [
    "gt_val = df_validation.to_dict(orient='records')"
   ]
  },
  {
   "cell_type": "code",
   "execution_count": 42,
   "id": "33d2c962-b56a-4f1d-892a-1b84e89f4f0d",
   "metadata": {},
   "outputs": [],
   "source": [
    "def minsearch_search(query, boost=None):\n",
    "    if boost is None:\n",
    "        boost = {}\n",
    "\n",
    "    results = index.search(\n",
    "        query=query,\n",
    "        filter_dict={},\n",
    "        boost_dict=boost,\n",
    "        num_results=10\n",
    "    )\n",
    "\n",
    "    return results"
   ]
  },
  {
   "cell_type": "code",
   "execution_count": 43,
   "id": "9d61d688-45a0-40c9-bf5a-e87ad778ac0b",
   "metadata": {},
   "outputs": [],
   "source": [
    "param_ranges = {\n",
    "    'question': (0.0, 3.0),\n",
    "    'answer': (0.0, 3.0),\n",
    "    'source': (0.0, 3.0),\n",
    "    'focus_area': (0.0, 3.0)\n",
    "}\n",
    "\n",
    "def objective(boost_params):\n",
    "    def search_function(q):\n",
    "        return minsearch_search(q['question'], boost_params)\n",
    "\n",
    "    results = evaluate(gt_val, search_function)\n",
    "    return results['mrr']"
   ]
  },
  {
   "cell_type": "code",
   "execution_count": 44,
   "id": "85f903c6-9c07-4399-9cca-e12bda23e7b7",
   "metadata": {},
   "outputs": [
    {
     "name": "stderr",
     "output_type": "stream",
     "text": [
      "100%|████████████████████████████████████████████████████████████████████████████████| 100/100 [00:00<00:00, 207.29it/s]\n",
      "100%|████████████████████████████████████████████████████████████████████████████████| 100/100 [00:00<00:00, 176.79it/s]\n",
      "100%|████████████████████████████████████████████████████████████████████████████████| 100/100 [00:00<00:00, 174.53it/s]\n",
      "100%|████████████████████████████████████████████████████████████████████████████████| 100/100 [00:00<00:00, 182.97it/s]\n",
      "100%|████████████████████████████████████████████████████████████████████████████████| 100/100 [00:00<00:00, 182.99it/s]\n",
      "100%|████████████████████████████████████████████████████████████████████████████████| 100/100 [00:00<00:00, 206.31it/s]\n",
      "100%|████████████████████████████████████████████████████████████████████████████████| 100/100 [00:00<00:00, 202.74it/s]\n",
      "100%|████████████████████████████████████████████████████████████████████████████████| 100/100 [00:00<00:00, 199.59it/s]\n",
      "100%|████████████████████████████████████████████████████████████████████████████████| 100/100 [00:00<00:00, 199.18it/s]\n",
      "100%|████████████████████████████████████████████████████████████████████████████████| 100/100 [00:00<00:00, 197.15it/s]\n",
      "100%|████████████████████████████████████████████████████████████████████████████████| 100/100 [00:00<00:00, 214.78it/s]\n",
      "100%|████████████████████████████████████████████████████████████████████████████████| 100/100 [00:00<00:00, 190.93it/s]\n",
      "100%|████████████████████████████████████████████████████████████████████████████████| 100/100 [00:00<00:00, 185.25it/s]\n",
      "100%|████████████████████████████████████████████████████████████████████████████████| 100/100 [00:00<00:00, 205.41it/s]\n",
      "100%|████████████████████████████████████████████████████████████████████████████████| 100/100 [00:00<00:00, 188.95it/s]\n",
      "100%|████████████████████████████████████████████████████████████████████████████████| 100/100 [00:00<00:00, 191.76it/s]\n",
      "100%|████████████████████████████████████████████████████████████████████████████████| 100/100 [00:00<00:00, 198.20it/s]\n",
      "100%|████████████████████████████████████████████████████████████████████████████████| 100/100 [00:00<00:00, 203.04it/s]\n",
      "100%|████████████████████████████████████████████████████████████████████████████████| 100/100 [00:00<00:00, 216.89it/s]\n",
      "100%|████████████████████████████████████████████████████████████████████████████████| 100/100 [00:00<00:00, 211.46it/s]\n"
     ]
    },
    {
     "data": {
      "text/plain": [
       "({'question': 0.5081262391450764,\n",
       "  'answer': 1.5753476546149885,\n",
       "  'source': 1.6267111286897529,\n",
       "  'focus_area': 0.07916752364891522},\n",
       " 0.3166309523809524)"
      ]
     },
     "execution_count": 44,
     "metadata": {},
     "output_type": "execute_result"
    }
   ],
   "source": [
    "simple_optimize(param_ranges, objective, n_iterations=20)"
   ]
  },
  {
   "cell_type": "markdown",
   "id": "523cf0fd-9fd3-47d4-9889-82c332023a3b",
   "metadata": {},
   "source": [
    "best parameters:\n",
    "{'question': 0.5081262391450764,\n",
    "  'answer': 1.5753476546149885,\n",
    "  'source': 1.6267111286897529,\n",
    "  'focus_area': 0.07916752364891522}\n",
    "\n",
    "mrr = 0.3166309523809524"
   ]
  },
  {
   "cell_type": "code",
   "execution_count": 46,
   "id": "7e11a1b9-9375-4c24-bfb3-0170ce82187d",
   "metadata": {},
   "outputs": [],
   "source": [
    "def minsearch_improved(query):\n",
    "    boost = {\n",
    "        'question': 0.508,\n",
    "        'answer': 1.575,\n",
    "        'source': 1.627,\n",
    "        'focus_area': 0.079\n",
    "    }\n",
    "\n",
    "    results = index.search(\n",
    "        query=query,\n",
    "        filter_dict={},\n",
    "        boost_dict=boost,\n",
    "        num_results=10\n",
    "    )\n",
    "\n",
    "    return results"
   ]
  },
  {
   "cell_type": "code",
   "execution_count": 47,
   "id": "d195397b-3734-4080-baa0-66faab1c8c2f",
   "metadata": {},
   "outputs": [
    {
     "name": "stderr",
     "output_type": "stream",
     "text": [
      "100%|██████████████████████████████████████████████████████████████████████████████| 2880/2880 [00:15<00:00, 190.10it/s]\n"
     ]
    },
    {
     "data": {
      "text/plain": [
       "{'hit_rate': 0.6545138888888888, 'mrr': 0.3385154872134044}"
      ]
     },
     "execution_count": 47,
     "metadata": {},
     "output_type": "execute_result"
    }
   ],
   "source": [
    "eval_res1 = evaluate(ground_truth, lambda q: minsearch_improved(q['question']))\n",
    "eval_res1"
   ]
  },
  {
   "cell_type": "markdown",
   "id": "eb60d8bc-aa75-4b77-9ac4-d325a544f50a",
   "metadata": {},
   "source": [
    "With boost option, the metrics for keyword search improved obviously:\n",
    "\n",
    "\n",
    "{'hit_rate': 0.31493055555555555, 'mrr': 0.12612640542328032} ----> \n",
    "{'hit_rate': 0.6545138888888888, 'mrr': 0.3385154872134044}"
   ]
  },
  {
   "cell_type": "markdown",
   "id": "ed92cd15-9e62-4217-a463-c7ec2b23fcab",
   "metadata": {},
   "source": [
    "### 3.3 vector search via Qdrant"
   ]
  },
  {
   "cell_type": "code",
   "execution_count": null,
   "id": "4be6cd5e-6e49-4949-8cfe-a1ada1996dbe",
   "metadata": {},
   "outputs": [],
   "source": [
    "# Define the collection name\n",
    "collection_name = \"medicalQA-rag576\"\n",
    "EMBEDDING_DIMENSIONALITY =512\n",
    "# Create the collection with specified vector parameters\n",
    "client_q.create_collection(\n",
    "    collection_name=collection_name,\n",
    "    vectors_config=models.VectorParams(\n",
    "        size=EMBEDDING_DIMENSIONALITY,  # Dimensionality of the vectors\n",
    "        distance=models.Distance.COSINE  # Distance metric for similarity search\n",
    "    )\n",
    ")"
   ]
  },
  {
   "cell_type": "code",
   "execution_count": 49,
   "id": "aef8f683-d8a7-4f43-b43a-c5387cff6756",
   "metadata": {},
   "outputs": [],
   "source": [
    "points = []\n",
    "id = 0\n",
    "model_handle=\"jinaai/jina-embeddings-v2-small-en\"\n",
    "for doc in documents_wID:\n",
    "    point = models.PointStruct( # models is an imported module\n",
    "        id=id,\n",
    "        vector=models.Document(text=doc['answer'], model=model_handle), #embed text locally with \"jinaai/jina-embeddings-v2-small-en\" from FastEmbed\n",
    "        payload={\n",
    "            \"text\": doc['answer'], # have to be here or else not vectorized.\n",
    "            \"source\": doc['source'],\n",
    "            \"focus_area\": doc['focus_area'],\n",
    "            \"id\": doc['id']\n",
    "        } #save all needed metadata fields\n",
    "    )\n",
    "    points.append(point)\n",
    "\n",
    "    id += 1"
   ]
  },
  {
   "cell_type": "code",
   "execution_count": 29,
   "id": "f3c8ee51-714a-4f7d-a541-4690dae2d4ba",
   "metadata": {},
   "outputs": [
    {
     "data": {
      "text/plain": [
       "UpdateResult(operation_id=0, status=<UpdateStatus.COMPLETED: 'completed'>)"
      ]
     },
     "execution_count": 29,
     "metadata": {},
     "output_type": "execute_result"
    }
   ],
   "source": [
    "client_q.upsert(\n",
    "    collection_name=collection_name,\n",
    "    points=points\n",
    ")"
   ]
  },
  {
   "cell_type": "code",
   "execution_count": 30,
   "id": "2e6b4296-1e34-4765-bff1-aa115982f6bb",
   "metadata": {},
   "outputs": [],
   "source": [
    "# define a search function\n",
    "def search_vec(query, limit=10):\n",
    "\n",
    "    results = client_q.query_points(\n",
    "        collection_name=collection_name,\n",
    "        query=models.Document( #embed the query text locally with \"jinaai/jina-embeddings-v2-small-en\"\n",
    "            text=query,\n",
    "            model=model_handle \n",
    "        ),\n",
    "        limit=limit, # top closest matches\n",
    "        with_payload=True #to get metadata in the results\n",
    "    )\n",
    "\n",
    "    return results"
   ]
  },
  {
   "cell_type": "code",
   "execution_count": 31,
   "id": "3f42cd6e-30bd-4196-b0e5-7f308e37cf13",
   "metadata": {},
   "outputs": [],
   "source": [
    "def evaluate_vec(ground_truth, search_function):\n",
    "    relevance_total = []\n",
    "\n",
    "    for q in tqdm(ground_truth):\n",
    "        #print(q)\n",
    "        doc_id = q['id']\n",
    "        results = search_function(q)\n",
    "        #print(results)\n",
    "        relevance = [point.payload['id'] == doc_id for point in results.points]\n",
    "        relevance_total.append(relevance)\n",
    "\n",
    "    return {\n",
    "        'hit_rate': hit_rate(relevance_total),\n",
    "        'mrr': mrr(relevance_total),\n",
    "    }"
   ]
  },
  {
   "cell_type": "code",
   "execution_count": 33,
   "id": "9afd345f-7e72-42f4-9ae8-42ba95c39755",
   "metadata": {},
   "outputs": [
    {
     "name": "stderr",
     "output_type": "stream",
     "text": [
      "100%|███████████████████████████████████████████████████████████████████████████████| 2880/2880 [00:33<00:00, 86.43it/s]\n"
     ]
    }
   ],
   "source": [
    "eval_res2 = evaluate_vec(ground_truth, lambda q: search_vec(q['question']))"
   ]
  },
  {
   "cell_type": "code",
   "execution_count": 34,
   "id": "8148939b-6638-49f8-96a3-8b5971dcc5c9",
   "metadata": {},
   "outputs": [
    {
     "data": {
      "text/plain": [
       "{'hit_rate': 0.8659722222222223, 'mrr': 0.5811078042328033}"
      ]
     },
     "execution_count": 34,
     "metadata": {},
     "output_type": "execute_result"
    }
   ],
   "source": [
    "eval_res2"
   ]
  },
  {
   "cell_type": "code",
   "execution_count": 52,
   "id": "7ffca86a-a527-4fa3-af1b-76bb31e0fdbb",
   "metadata": {},
   "outputs": [
    {
     "data": {
      "text/html": [
       "<div>\n",
       "<style scoped>\n",
       "    .dataframe tbody tr th:only-of-type {\n",
       "        vertical-align: middle;\n",
       "    }\n",
       "\n",
       "    .dataframe tbody tr th {\n",
       "        vertical-align: top;\n",
       "    }\n",
       "\n",
       "    .dataframe thead th {\n",
       "        text-align: right;\n",
       "    }\n",
       "</style>\n",
       "<table border=\"1\" class=\"dataframe\">\n",
       "  <thead>\n",
       "    <tr style=\"text-align: right;\">\n",
       "      <th></th>\n",
       "      <th>hit_rate</th>\n",
       "      <th>mrr</th>\n",
       "    </tr>\n",
       "  </thead>\n",
       "  <tbody>\n",
       "    <tr>\n",
       "      <th>keyword_search</th>\n",
       "      <td>0.452431</td>\n",
       "      <td>0.219523</td>\n",
       "    </tr>\n",
       "    <tr>\n",
       "      <th>keyword_search_boost</th>\n",
       "      <td>0.654514</td>\n",
       "      <td>0.338515</td>\n",
       "    </tr>\n",
       "    <tr>\n",
       "      <th>vector_search</th>\n",
       "      <td>0.865972</td>\n",
       "      <td>0.581108</td>\n",
       "    </tr>\n",
       "  </tbody>\n",
       "</table>\n",
       "</div>"
      ],
      "text/plain": [
       "                      hit_rate       mrr\n",
       "keyword_search        0.452431  0.219523\n",
       "keyword_search_boost  0.654514  0.338515\n",
       "vector_search         0.865972  0.581108"
      ]
     },
     "execution_count": 52,
     "metadata": {},
     "output_type": "execute_result"
    }
   ],
   "source": [
    "pd.DataFrame([eval_res, eval_res1, eval_res2], index=[\"keyword_search\", \"keyword_search_boost\", \"vector_search\"])"
   ]
  },
  {
   "cell_type": "markdown",
   "id": "a5b148c3-ad4c-4196-b6a5-e3588fe3aa06",
   "metadata": {
    "jp-MarkdownHeadingCollapsed": true
   },
   "source": [
    "**Retrieveal evaluation conclusion**:\n",
    "* vector search via Qdrant is much better than keyword search via minsearch, even with boost option!\n",
    "* vector search will be used in RAG evaluation"
   ]
  },
  {
   "cell_type": "markdown",
   "id": "4de669d5-f9a4-4da0-b533-2781204ece3b",
   "metadata": {},
   "source": [
    "## 4. RAG evaluation"
   ]
  },
  {
   "cell_type": "markdown",
   "id": "5d89584c-e37a-4041-b668-c04eccc0d9d9",
   "metadata": {},
   "source": [
    "### 4.1 Model 'gpt-oss-120b'"
   ]
  },
  {
   "cell_type": "code",
   "execution_count": 80,
   "id": "8ec8f1ff-3baf-4f8c-be57-8ac3a62021bf",
   "metadata": {},
   "outputs": [],
   "source": [
    "# define a search function\n",
    "collection_name = \"medicalQA-rag576\"\n",
    "def search_vec(query, limit=1):\n",
    "\n",
    "    results = client_q.query_points(\n",
    "        collection_name=collection_name,\n",
    "        query=models.Document( #embed the query text locally with \"jinaai/jina-embeddings-v2-small-en\"\n",
    "            text=query,\n",
    "            model=model_handle \n",
    "        ),\n",
    "        limit=limit, # top closest matches\n",
    "        with_payload=True #to get metadata in the results\n",
    "    )\n",
    "\n",
    "    return results"
   ]
  },
  {
   "cell_type": "code",
   "execution_count": 92,
   "id": "106b6688-4c6d-4331-ab31-122bfe745ed9",
   "metadata": {},
   "outputs": [],
   "source": [
    "def build_prompt_vec(query, search_results):\n",
    "    prompt_template = \"\"\"\n",
    "    You're an assistant at the front desk of meadical information. Answer the QUESTION based on the CONTEXT from the FAQ database.\n",
    "    Use only the facts from the CONTEXT when answering the QUESTION.\n",
    "    \n",
    "    QUESTION: {question}\n",
    "    \n",
    "    CONTEXT: \n",
    "    {context}\n",
    "    \"\"\".strip()\n",
    "\n",
    "    entry_template = \"\"\"\n",
    "    answer_in_db: {text}\n",
    "    cource_in_db: {source}\n",
    "    focus_area_indb: {focus_area}\n",
    "    \"\"\".strip()\n",
    "\n",
    "    retrieved_context = \"\"\n",
    "    \n",
    "    for doc in search_results.points:\n",
    "        # print(doc)\n",
    "        # \"**\" unpacks the key-value pairs from the doc dictionary and passes them as keyword arguments to the format() method.\n",
    "        # note to \"**\": the keys in the dictionary MUST match the placeholders in your template string\n",
    "        retrieved_context += entry_template.format(**doc.payload) + \"\\n\\n\"\n",
    "    \n",
    "    prompt = prompt_template.format(question=query, context=retrieved_context).strip()\n",
    "    return prompt"
   ]
  },
  {
   "cell_type": "code",
   "execution_count": 83,
   "id": "46598902-795a-4142-b1a4-caf22167dd67",
   "metadata": {},
   "outputs": [],
   "source": [
    "def llm(prompt, model='gpt-oss-120b'):\n",
    "    response = client.chat.completions.create(model=model,\n",
    "                                              messages=[{\"role\": \"user\", \"content\": prompt}]\n",
    "                                             )\n",
    "    \n",
    "    return response.choices[0].message.content"
   ]
  },
  {
   "cell_type": "code",
   "execution_count": 84,
   "id": "2109a372-b7f7-4301-a495-9cace30c5a4a",
   "metadata": {},
   "outputs": [],
   "source": [
    "def rag_vec(query, model='gpt-oss-120b'):\n",
    "    search_results = search_vec(query)\n",
    "    prompt = build_prompt_vec(query, search_results)\n",
    "    answer = llm(prompt, model=model)\n",
    "    return answer"
   ]
  },
  {
   "cell_type": "code",
   "execution_count": 53,
   "id": "4ab3ae9a-8639-4244-ada3-90d321f0ceb0",
   "metadata": {},
   "outputs": [],
   "source": [
    "prompt2_template = \"\"\"\n",
    "You are an expert evaluator for a RAG system.\n",
    "Your task is to analyze the relevance of the generated answer to the given question.\n",
    "Based on the relevance of the generated answer, you will classify it\n",
    "as \"NON_RELEVANT\", \"PARTLY_RELEVANT\", or \"RELEVANT\".\n",
    "\n",
    "Here is the data for evaluation:\n",
    "\n",
    "Question: {question}\n",
    "Generated Answer: {answer_llm}\n",
    "\n",
    "Please analyze the content and context of the generated answer in relation to the question\n",
    "and provide your evaluation in parsable JSON without using code blocks:\n",
    "\n",
    "{{\n",
    "  \"Relevance\": \"NON_RELEVANT\" | \"PARTLY_RELEVANT\" | \"RELEVANT\",\n",
    "  \"Explanation\": \"[Provide a brief explanation for your evaluation]\"\n",
    "}}\n",
    "\"\"\".strip()"
   ]
  },
  {
   "cell_type": "code",
   "execution_count": 54,
   "id": "bb3a0f2a-a232-4864-bf43-c93578667914",
   "metadata": {},
   "outputs": [
    {
     "data": {
      "text/plain": [
       "2880"
      ]
     },
     "execution_count": 54,
     "metadata": {},
     "output_type": "execute_result"
    }
   ],
   "source": [
    "len(ground_truth)"
   ]
  },
  {
   "cell_type": "code",
   "execution_count": 93,
   "id": "b2be59fd-2d38-4aeb-a335-025dc1cab029",
   "metadata": {},
   "outputs": [],
   "source": [
    "record = ground_truth[0]\n",
    "question = record['question']\n",
    "answer_llm = rag_vec(question)"
   ]
  },
  {
   "cell_type": "code",
   "execution_count": 94,
   "id": "8f1a5c96-6904-4cd6-8f36-4c6f56ead161",
   "metadata": {},
   "outputs": [
    {
     "name": "stdout",
     "output_type": "stream",
     "text": [
      "Glaucoma is a group of eye diseases that can damage the optic nerve—the nerve that carries visual information from the eye to the brain. When the optic nerve is harmed, it can result in vision loss and ultimately blindness. The most common form is open‑angle glaucoma. Because the nerve damage can be progressive, early detection and treatment are important; with timely care, many people are able to protect their eyes and avoid serious vision loss.\n"
     ]
    }
   ],
   "source": [
    "print(answer_llm)"
   ]
  },
  {
   "cell_type": "code",
   "execution_count": 95,
   "id": "311e3d42-30a4-4fe7-906c-c3806442bc8d",
   "metadata": {},
   "outputs": [
    {
     "name": "stdout",
     "output_type": "stream",
     "text": [
      "You are an expert evaluator for a RAG system.\n",
      "Your task is to analyze the relevance of the generated answer to the given question.\n",
      "Based on the relevance of the generated answer, you will classify it\n",
      "as \"NON_RELEVANT\", \"PARTLY_RELEVANT\", or \"RELEVANT\".\n",
      "\n",
      "Here is the data for evaluation:\n",
      "\n",
      "Question: Could you define glaucoma for me and explain how it can lead to vision loss?\n",
      "Generated Answer: Glaucoma is a group of eye diseases that can damage the optic nerve—the nerve that carries visual information from the eye to the brain. When the optic nerve is harmed, it can result in vision loss and ultimately blindness. The most common form is open‑angle glaucoma. Because the nerve damage can be progressive, early detection and treatment are important; with timely care, many people are able to protect their eyes and avoid serious vision loss.\n",
      "\n",
      "Please analyze the content and context of the generated answer in relation to the question\n",
      "and provide your evaluation in parsable JSON without using code blocks:\n",
      "\n",
      "{\n",
      "  \"Relevance\": \"NON_RELEVANT\" | \"PARTLY_RELEVANT\" | \"RELEVANT\",\n",
      "  \"Explanation\": \"[Provide a brief explanation for your evaluation]\"\n",
      "}\n"
     ]
    }
   ],
   "source": [
    "prompt = prompt2_template.format(question=question, answer_llm=answer_llm)\n",
    "print(prompt)"
   ]
  },
  {
   "cell_type": "code",
   "execution_count": 79,
   "id": "2c87994a-c878-4776-ab21-a11e609c9195",
   "metadata": {},
   "outputs": [
    {
     "data": {
      "text/plain": [
       "2880"
      ]
     },
     "execution_count": 79,
     "metadata": {},
     "output_type": "execute_result"
    }
   ],
   "source": [
    "len(df_question)"
   ]
  },
  {
   "cell_type": "code",
   "execution_count": 96,
   "id": "6da1bf76-7670-4723-847d-15aad4a5d4ac",
   "metadata": {},
   "outputs": [],
   "source": [
    "df_sample = df_question.sample(n=200, random_state=1)"
   ]
  },
  {
   "cell_type": "code",
   "execution_count": 97,
   "id": "98a38031-1e2b-4134-bc88-6d9e857771f0",
   "metadata": {},
   "outputs": [],
   "source": [
    "sample = df_sample.to_dict(orient='records')"
   ]
  },
  {
   "cell_type": "code",
   "execution_count": 98,
   "id": "a66cdc62-803c-4c79-a687-581788fe1d71",
   "metadata": {},
   "outputs": [
    {
     "name": "stderr",
     "output_type": "stream",
     "text": [
      "100%|█████████████████████████████████████████████████████████████████████████████████| 200/200 [07:04<00:00,  2.12s/it]\n"
     ]
    }
   ],
   "source": [
    "evaluations = []\n",
    "\n",
    "for record in tqdm(sample):\n",
    "    question = record['question']\n",
    "    answer_llm = rag_vec(question) \n",
    "\n",
    "    prompt = prompt2_template.format(\n",
    "        question=question,\n",
    "        answer_llm=answer_llm\n",
    "    )\n",
    "\n",
    "    evaluation = llm(prompt)\n",
    "    evaluation = json.loads(evaluation)\n",
    "\n",
    "    evaluations.append((record, answer_llm, evaluation))"
   ]
  },
  {
   "cell_type": "code",
   "execution_count": 99,
   "id": "cf61170e-bfde-4889-8cd3-98fbfcc89918",
   "metadata": {},
   "outputs": [],
   "source": [
    "df_eval = pd.DataFrame(evaluations, columns=['record', 'answer', 'evaluation'])\n",
    "\n",
    "df_eval['id'] = df_eval.record.apply(lambda d: d['id'])\n",
    "df_eval['question'] = df_eval.record.apply(lambda d: d['question'])\n",
    "\n",
    "df_eval['relevance'] = df_eval.evaluation.apply(lambda d: d['Relevance'])\n",
    "df_eval['explanation'] = df_eval.evaluation.apply(lambda d: d['Explanation'])\n",
    "\n",
    "del df_eval['record']\n",
    "del df_eval['evaluation']"
   ]
  },
  {
   "cell_type": "code",
   "execution_count": 100,
   "id": "ac52a63d-6d96-4116-a3d3-b906d52c2afd",
   "metadata": {},
   "outputs": [
    {
     "data": {
      "text/plain": [
       "relevance\n",
       "RELEVANT           0.750\n",
       "PARTLY_RELEVANT    0.205\n",
       "NON_RELEVANT       0.045\n",
       "Name: proportion, dtype: float64"
      ]
     },
     "execution_count": 100,
     "metadata": {},
     "output_type": "execute_result"
    }
   ],
   "source": [
    "df_eval.relevance.value_counts(normalize=True)"
   ]
  },
  {
   "cell_type": "code",
   "execution_count": 101,
   "id": "3b1acbc2-9690-4d51-98a6-b81ee659ceb9",
   "metadata": {},
   "outputs": [],
   "source": [
    "df_eval.to_csv('data/rag_vec-eval-gpt-oss-120b.csv', index=False)"
   ]
  },
  {
   "cell_type": "code",
   "execution_count": 102,
   "id": "9492ff9c-d633-4d02-a573-217e3978ccbb",
   "metadata": {},
   "outputs": [
    {
     "data": {
      "text/html": [
       "<div>\n",
       "<style scoped>\n",
       "    .dataframe tbody tr th:only-of-type {\n",
       "        vertical-align: middle;\n",
       "    }\n",
       "\n",
       "    .dataframe tbody tr th {\n",
       "        vertical-align: top;\n",
       "    }\n",
       "\n",
       "    .dataframe thead th {\n",
       "        text-align: right;\n",
       "    }\n",
       "</style>\n",
       "<table border=\"1\" class=\"dataframe\">\n",
       "  <thead>\n",
       "    <tr style=\"text-align: right;\">\n",
       "      <th></th>\n",
       "      <th>answer</th>\n",
       "      <th>id</th>\n",
       "      <th>question</th>\n",
       "      <th>relevance</th>\n",
       "      <th>explanation</th>\n",
       "    </tr>\n",
       "  </thead>\n",
       "  <tbody>\n",
       "    <tr>\n",
       "      <th>1</th>\n",
       "      <td>I’m sorry, but the information you’re asking a...</td>\n",
       "      <td>49bcdbe75</td>\n",
       "      <td>With diabetes and psoriasis, what joint clues ...</td>\n",
       "      <td>NON_RELEVANT</td>\n",
       "      <td>The generated answer does not provide any join...</td>\n",
       "    </tr>\n",
       "    <tr>\n",
       "      <th>12</th>\n",
       "      <td>I’m sorry, but the information you’ve asked ab...</td>\n",
       "      <td>d2d3c2d5b</td>\n",
       "      <td>What exactly is NET-PD, and how could this pro...</td>\n",
       "      <td>NON_RELEVANT</td>\n",
       "      <td>The answer does not explain what NET-PD is nor...</td>\n",
       "    </tr>\n",
       "    <tr>\n",
       "      <th>23</th>\n",
       "      <td>The information we have about COPD notes that,...</td>\n",
       "      <td>6e9139b81</td>\n",
       "      <td>My family says my face looks blank and I walk ...</td>\n",
       "      <td>NON_RELEVANT</td>\n",
       "      <td>The answer discusses COPD progression and its ...</td>\n",
       "    </tr>\n",
       "    <tr>\n",
       "      <th>33</th>\n",
       "      <td>I’m sorry, but the information you’re looking ...</td>\n",
       "      <td>295822324</td>\n",
       "      <td>Which specific brain areas are central to Park...</td>\n",
       "      <td>NON_RELEVANT</td>\n",
       "      <td>The answer does not provide any information ab...</td>\n",
       "    </tr>\n",
       "    <tr>\n",
       "      <th>41</th>\n",
       "      <td>If you’re experiencing a stroke, the most obvi...</td>\n",
       "      <td>298977198</td>\n",
       "      <td>If I have it, are the changes most obvious in ...</td>\n",
       "      <td>NON_RELEVANT</td>\n",
       "      <td>The generated answer assumes the condition is ...</td>\n",
       "    </tr>\n",
       "    <tr>\n",
       "      <th>75</th>\n",
       "      <td>Based on the information in our database, sudd...</td>\n",
       "      <td>616d8ddff</td>\n",
       "      <td>My blood pressure is often low; can that make ...</td>\n",
       "      <td>NON_RELEVANT</td>\n",
       "      <td>The answer discusses stroke warning signs and ...</td>\n",
       "    </tr>\n",
       "    <tr>\n",
       "      <th>108</th>\n",
       "      <td>I’m sorry, but the information you’re looking ...</td>\n",
       "      <td>967fcad01</td>\n",
       "      <td>As an older adult with heart disease and diabe...</td>\n",
       "      <td>NON_RELEVANT</td>\n",
       "      <td>The generated answer does not provide any info...</td>\n",
       "    </tr>\n",
       "    <tr>\n",
       "      <th>164</th>\n",
       "      <td>If your primary doctor isn’t an osteoporosis s...</td>\n",
       "      <td>178498506</td>\n",
       "      <td>If my primary doctor does not focus on osteopo...</td>\n",
       "      <td>NON_RELEVANT</td>\n",
       "      <td>The question asks which medical specialist sho...</td>\n",
       "    </tr>\n",
       "    <tr>\n",
       "      <th>172</th>\n",
       "      <td>I’m sorry, but the information in our FAQ data...</td>\n",
       "      <td>d0ac3c5e3</td>\n",
       "      <td>How do the two main forms compare in speed and...</td>\n",
       "      <td>NON_RELEVANT</td>\n",
       "      <td>The answer discusses peripheral arterial disea...</td>\n",
       "    </tr>\n",
       "  </tbody>\n",
       "</table>\n",
       "</div>"
      ],
      "text/plain": [
       "                                                answer         id  \\\n",
       "1    I’m sorry, but the information you’re asking a...  49bcdbe75   \n",
       "12   I’m sorry, but the information you’ve asked ab...  d2d3c2d5b   \n",
       "23   The information we have about COPD notes that,...  6e9139b81   \n",
       "33   I’m sorry, but the information you’re looking ...  295822324   \n",
       "41   If you’re experiencing a stroke, the most obvi...  298977198   \n",
       "75   Based on the information in our database, sudd...  616d8ddff   \n",
       "108  I’m sorry, but the information you’re looking ...  967fcad01   \n",
       "164  If your primary doctor isn’t an osteoporosis s...  178498506   \n",
       "172  I’m sorry, but the information in our FAQ data...  d0ac3c5e3   \n",
       "\n",
       "                                              question     relevance  \\\n",
       "1    With diabetes and psoriasis, what joint clues ...  NON_RELEVANT   \n",
       "12   What exactly is NET-PD, and how could this pro...  NON_RELEVANT   \n",
       "23   My family says my face looks blank and I walk ...  NON_RELEVANT   \n",
       "33   Which specific brain areas are central to Park...  NON_RELEVANT   \n",
       "41   If I have it, are the changes most obvious in ...  NON_RELEVANT   \n",
       "75   My blood pressure is often low; can that make ...  NON_RELEVANT   \n",
       "108  As an older adult with heart disease and diabe...  NON_RELEVANT   \n",
       "164  If my primary doctor does not focus on osteopo...  NON_RELEVANT   \n",
       "172  How do the two main forms compare in speed and...  NON_RELEVANT   \n",
       "\n",
       "                                           explanation  \n",
       "1    The generated answer does not provide any join...  \n",
       "12   The answer does not explain what NET-PD is nor...  \n",
       "23   The answer discusses COPD progression and its ...  \n",
       "33   The answer does not provide any information ab...  \n",
       "41   The generated answer assumes the condition is ...  \n",
       "75   The answer discusses stroke warning signs and ...  \n",
       "108  The generated answer does not provide any info...  \n",
       "164  The question asks which medical specialist sho...  \n",
       "172  The answer discusses peripheral arterial disea...  "
      ]
     },
     "execution_count": 102,
     "metadata": {},
     "output_type": "execute_result"
    }
   ],
   "source": [
    "df_eval[df_eval.relevance == 'NON_RELEVANT']"
   ]
  },
  {
   "cell_type": "markdown",
   "id": "48a57f51-1581-4bc6-884e-da03d080c885",
   "metadata": {},
   "source": [
    "### 4.2 Model 'llama-3.3-70b-instruct'"
   ]
  },
  {
   "cell_type": "code",
   "execution_count": 103,
   "id": "4cd6ae64-67ee-4555-a909-f7cf43196a0b",
   "metadata": {},
   "outputs": [
    {
     "name": "stderr",
     "output_type": "stream",
     "text": [
      "100%|█████████████████████████████████████████████████████████████████████████████████| 200/200 [18:01<00:00,  5.41s/it]\n"
     ]
    }
   ],
   "source": [
    "evaluations_llama3370b = []\n",
    "\n",
    "for record in tqdm(sample):\n",
    "    question = record['question']\n",
    "    answer_llm = rag(question, model='llama-3.3-70b-instruct') \n",
    "\n",
    "    prompt = prompt2_template.format(\n",
    "        question=question,\n",
    "        answer_llm=answer_llm\n",
    "    )\n",
    "\n",
    "    evaluation = llm(prompt)\n",
    "    evaluation = json.loads(evaluation)\n",
    "    \n",
    "    evaluations_llama3370b.append((record, answer_llm, evaluation))"
   ]
  },
  {
   "cell_type": "code",
   "execution_count": 104,
   "id": "04e864b5-0061-4ae3-925a-7064fa0394e2",
   "metadata": {},
   "outputs": [],
   "source": [
    "df_eval = pd.DataFrame(evaluations_llama3370b, columns=['record', 'answer', 'evaluation'])\n",
    "\n",
    "df_eval['id'] = df_eval.record.apply(lambda d: d['id'])\n",
    "df_eval['question'] = df_eval.record.apply(lambda d: d['question'])\n",
    "\n",
    "df_eval['relevance'] = df_eval.evaluation.apply(lambda d: d['Relevance'])\n",
    "df_eval['explanation'] = df_eval.evaluation.apply(lambda d: d['Explanation'])\n",
    "\n",
    "del df_eval['record']\n",
    "del df_eval['evaluation']"
   ]
  },
  {
   "cell_type": "code",
   "execution_count": 105,
   "id": "c54ecf16-8859-47a8-8bcc-4226c9214498",
   "metadata": {},
   "outputs": [
    {
     "data": {
      "text/plain": [
       "relevance\n",
       "RELEVANT           97\n",
       "NON_RELEVANT       52\n",
       "PARTLY_RELEVANT    51\n",
       "Name: count, dtype: int64"
      ]
     },
     "execution_count": 105,
     "metadata": {},
     "output_type": "execute_result"
    }
   ],
   "source": [
    "df_eval.relevance.value_counts()"
   ]
  },
  {
   "cell_type": "code",
   "execution_count": 106,
   "id": "9ff27bcc-d843-499b-abf9-ff936303af22",
   "metadata": {},
   "outputs": [
    {
     "data": {
      "text/plain": [
       "relevance\n",
       "RELEVANT           0.485\n",
       "NON_RELEVANT       0.260\n",
       "PARTLY_RELEVANT    0.255\n",
       "Name: proportion, dtype: float64"
      ]
     },
     "execution_count": 106,
     "metadata": {},
     "output_type": "execute_result"
    }
   ],
   "source": [
    "df_eval.relevance.value_counts(normalize=True)"
   ]
  },
  {
   "cell_type": "code",
   "execution_count": 107,
   "id": "ade00f45-1aaf-4236-9452-cdd4bb47fd3d",
   "metadata": {},
   "outputs": [],
   "source": [
    "df_eval.to_csv('data/rag_vec-eval-gpt-llama3.3-70b.csv', index=False)"
   ]
  },
  {
   "cell_type": "markdown",
   "id": "8c902c67-fe6c-4287-b12a-5f2e6853c22e",
   "metadata": {},
   "source": [
    "**RAG evaluation conclusion**:\n",
    "\n",
    "* **'gpt-oss-120b'** is much better than 'llama-3.3-70b-instruct' using Vector search"
   ]
  },
  {
   "cell_type": "code",
   "execution_count": null,
   "id": "fac13d41-60dc-4d65-a06d-49a8159c8b86",
   "metadata": {},
   "outputs": [],
   "source": []
  }
 ],
 "metadata": {
  "kernelspec": {
   "display_name": "Python 3 (ipykernel)",
   "language": "python",
   "name": "python3"
  },
  "language_info": {
   "codemirror_mode": {
    "name": "ipython",
    "version": 3
   },
   "file_extension": ".py",
   "mimetype": "text/x-python",
   "name": "python",
   "nbconvert_exporter": "python",
   "pygments_lexer": "ipython3",
   "version": "3.10.12"
  }
 },
 "nbformat": 4,
 "nbformat_minor": 5
}
